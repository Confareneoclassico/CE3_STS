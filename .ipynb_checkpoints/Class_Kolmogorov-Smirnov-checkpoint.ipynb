{
 "cells": [
  {
   "cell_type": "markdown",
   "id": "215aa03b-3931-49b4-86e4-c504e1934ca2",
   "metadata": {},
   "source": [
    "# Statistical Analysis II - Practicum 1"
   ]
  },
  {
   "cell_type": "markdown",
   "id": "403e08e7-1fa2-45db-9888-a695af903c82",
   "metadata": {},
   "source": [
    "## Non-parametric statistics"
   ]
  },
  {
   "cell_type": "code",
   "execution_count": null,
   "id": "cdc793b5-00af-49c8-8faa-5b4a442afe14",
   "metadata": {},
   "outputs": [],
   "source": [
    "import matplotlib.pyplot as plt\n",
    "import numpy as np\n",
    "import pandas as pd\n",
    "from scipy import stats"
   ]
  },
  {
   "cell_type": "markdown",
   "id": "c4d62bb1-2a00-461c-b06b-ced3247407aa",
   "metadata": {},
   "source": [
    "### Kolmogorov-Smirnov test"
   ]
  },
  {
   "cell_type": "markdown",
   "id": "253ac0a1-2c43-402c-a7ef-db0946929c7a",
   "metadata": {},
   "source": [
    "Examples from [the Scipy website](https://docs.scipy.org/doc/scipy/reference/generated/scipy.stats.kstest.html)"
   ]
  },
  {
   "cell_type": "markdown",
   "id": "997c8a36-57b3-4466-b4cf-e912a31f8366",
   "metadata": {},
   "source": [
    "The one-sample test compares the underlying distribution F(x) of a sample against a given distribution G(x) (e.g. normal, uniform). \n",
    "\n",
    "The two-sample test compares the underlying distributions of two independent samples. \n",
    "\n",
    "Both tests are **valid only** for continuous distributions and measure the maximum distance between distributions."
   ]
  },
  {
   "cell_type": "code",
   "execution_count": null,
   "id": "a2e9d236-73f3-450b-b3a7-5ebe8ca44e86",
   "metadata": {},
   "outputs": [],
   "source": [
    "# Import random seed\n",
    "rng = np.random.default_rng()\n",
    "\n",
    "#Produce a distribution\n",
    "F_x = stats.uniform.rvs(size=100, random_state=rng)\n",
    "print(F_x)\n",
    "\n",
    "#Compare it against a standard distribution\n",
    "G_x = stats.norm.cdf\n",
    "\n",
    "stats.kstest(F_x,G_x)"
   ]
  },
  {
   "cell_type": "markdown",
   "id": "6af3b983-3948-4d41-b291-11fe184b6b9f",
   "metadata": {},
   "source": [
    "#### Question: What would have happened if the sample distribution was larger?"
   ]
  },
  {
   "cell_type": "code",
   "execution_count": null,
   "id": "a843d1d1-3a02-4d93-8a9f-29a69a51fdfd",
   "metadata": {},
   "outputs": [],
   "source": [
    "#Produce a distribution\n",
    "F1_x = stats.uniform.rvs(size=1_000, random_state=rng)\n",
    "print(F1_x)\n",
    "\n",
    "stats.kstest(F1_x,G_x)"
   ]
  },
  {
   "cell_type": "markdown",
   "id": "18cdcbe5-41c5-4ace-8283-91ef10bd48fd",
   "metadata": {},
   "source": [
    "Let's look into another example"
   ]
  },
  {
   "cell_type": "code",
   "execution_count": null,
   "id": "6bc65c2a-c86b-4940-9fb9-9b3798b0c7aa",
   "metadata": {},
   "outputs": [],
   "source": [
    "F2_x = stats.norm.rvs(size=100, random_state=rng)\n",
    "print(F2_x)\n",
    "stats.kstest(F2_x, G_x)"
   ]
  },
  {
   "cell_type": "markdown",
   "id": "7f4d1e74-f210-46a3-9611-c8980b6647dc",
   "metadata": {},
   "source": [
    "As expected, the p-value is not below our threshold of 0.05, so we cannot reject the null hypothesis."
   ]
  },
  {
   "cell_type": "markdown",
   "id": "5948e519-3203-44be-bc2c-f313d77e8600",
   "metadata": {},
   "source": [
    "Let us assume, however, that the random variates are distributed according to a normal distribution that is shifted toward greater values. \n",
    "In this case, the cumulative density function (CDF) of the underlying distribution tends to be less than the CDF of the standard normal. "
   ]
  },
  {
   "cell_type": "code",
   "execution_count": null,
   "id": "9fb11b67-a46c-4c28-b6e0-8b34d454acfb",
   "metadata": {},
   "outputs": [],
   "source": [
    "F3_x = stats.norm.rvs(size=100, loc=0.5, random_state=rng)\n",
    "print(F3_x.mean())\n",
    "stats.kstest(F3_x, G_x, alternative='less')"
   ]
  },
  {
   "cell_type": "markdown",
   "id": "e4cfcf4a-b058-47e4-9af3-aa9a1d40eaad",
   "metadata": {},
   "source": [
    "#### What would have happened if I had used another alternative condition?"
   ]
  },
  {
   "cell_type": "code",
   "execution_count": null,
   "id": "96af74ae-3ba3-402b-983a-f5c421cf24bb",
   "metadata": {},
   "outputs": [],
   "source": []
  },
  {
   "cell_type": "markdown",
   "id": "6e93e030-5651-4ec2-9a9c-e1195a4a5482",
   "metadata": {},
   "source": [
    "Two-sample tests can also be performed."
   ]
  },
  {
   "cell_type": "code",
   "execution_count": 17,
   "id": "23d7fc70-1cfe-401f-965b-bd611cf6689c",
   "metadata": {},
   "outputs": [],
   "source": [
    "F4_x = stats.laplace.rvs(size=105, random_state=rng)\n",
    "F5_x = stats.laplace.rvs(size=95, random_state=rng)"
   ]
  },
  {
   "cell_type": "code",
   "execution_count": 34,
   "id": "46ddeac5-3f2b-4ae2-8031-28a37d62f5cc",
   "metadata": {},
   "outputs": [
    {
     "data": {
      "image/png": "[encoded data removed]",
      "text/plain": [
       "<Figure size 640x480 with 1 Axes>"
      ]
     },
     "metadata": {},
     "output_type": "display_data"
    }
   ],
   "source": [
    "plt.plot(np.linspace(0,1,105),np.sort(F4_x))\n",
    "plt.plot(np.linspace(0,1,95),np.sort(F5_x))\n",
    "plt.show()"
   ]
  },
  {
   "cell_type": "code",
   "execution_count": 18,
   "id": "b21b9070-5587-4fb5-a732-a1fdfa5d8c06",
   "metadata": {},
   "outputs": [
    {
     "data": {
      "text/plain": [
       "KstestResult(statistic=0.09674185463659148, pvalue=0.692119284575027)"
      ]
     },
     "execution_count": 18,
     "metadata": {},
     "output_type": "execute_result"
    }
   ],
   "source": [
    "stats.kstest(F4_x, F5_x)"
   ]
  },
  {
   "cell_type": "markdown",
   "id": "b2c457a0-cf3e-4cb0-8b00-a9ca37dae1d8",
   "metadata": {},
   "source": [
    "#### One more example"
   ]
  },
  {
   "cell_type": "markdown",
   "id": "1945ad01-fd10-47f1-9108-b51846cd5964",
   "metadata": {},
   "source": [
    "Use the Kolmogorov-Smirnov test to examine under **the significance level of 0.01** whether the observations below are random numbers uniformly distributed between 0 and 1."
   ]
  },
  {
   "cell_type": "code",
   "execution_count": 22,
   "id": "da7ab7a5-7438-4fb3-b2a7-dd8703f45e29",
   "metadata": {},
   "outputs": [],
   "source": [
    "df = pd.DataFrame({'Observation': [0.385, 0.137, 0.855, 0.396, 0.309, 0.238, 0.597, 0.657, 0.713, 0.583, 0.660, 0.194]})"
   ]
  },
  {
   "cell_type": "code",
   "execution_count": 23,
   "id": "c521656f-9730-412c-9750-9436a69a5a75",
   "metadata": {},
   "outputs": [],
   "source": [
    "df['F1_x']=df.Observation.copy()"
   ]
  },
  {
   "cell_type": "code",
   "execution_count": 24,
   "id": "7b9057da-732a-4e4e-9f90-79ccb336a298",
   "metadata": {},
   "outputs": [],
   "source": [
    "df = df.sort_values(by='Observation')"
   ]
  },
  {
   "cell_type": "code",
   "execution_count": 27,
   "id": "6cdd97d9-553d-444f-895e-88dceea7265e",
   "metadata": {},
   "outputs": [],
   "source": [
    "df['i_n'] = [(i+1)/len(df) for i in range(len(df))]"
   ]
  },
  {
   "cell_type": "code",
   "execution_count": 29,
   "id": "7b7c2fad-c88d-4c50-970a-c16ee50eafdb",
   "metadata": {},
   "outputs": [],
   "source": [
    "df['i-1_n'] = [i/len(df) for i in range(len(df))]"
   ]
  },
  {
   "cell_type": "code",
   "execution_count": null,
   "id": "212a7fa1-3bfd-455a-b508-336dc57d1dc4",
   "metadata": {},
   "outputs": [],
   "source": [
    "df"
   ]
  },
  {
   "cell_type": "code",
   "execution_count": 35,
   "id": "aed0cc79-5f8e-4160-bd2c-331aca48abe2",
   "metadata": {},
   "outputs": [],
   "source": [
    "df['D+'] = df.i_n-df.F1_x\n",
    "df['D-'] = df.F1_x-df['i-1_n']\n",
    "df"
   ]
  },
  {
   "cell_type": "code",
   "execution_count": 41,
   "id": "adcfe55a-b084-40fd-b177-aa2460ae6758",
   "metadata": {},
   "outputs": [
    {
     "data": {
      "text/plain": [
       "0.20366666666666666"
      ]
     },
     "execution_count": 41,
     "metadata": {},
     "output_type": "execute_result"
    }
   ],
   "source": [
    "D = max([max(df['D+']),max(df['D-'])])\n",
    "D"
   ]
  },
  {
   "cell_type": "markdown",
   "id": "de3cbea4-bfd2-4fb7-b5b6-8ff72b7de477",
   "metadata": {},
   "source": [
    "Comparing the data with the test outcome"
   ]
  },
  {
   "cell_type": "code",
   "execution_count": 42,
   "id": "2fd16883-0475-4697-963b-fc26c388a181",
   "metadata": {},
   "outputs": [
    {
     "data": {
      "text/plain": [
       "KstestResult(statistic=0.20366666666666666, pvalue=0.6313486275279594)"
      ]
     },
     "execution_count": 42,
     "metadata": {},
     "output_type": "execute_result"
    }
   ],
   "source": [
    "stats.kstest(df.Observation,stats.uniform.cdf)"
   ]
  },
  {
   "cell_type": "code",
   "execution_count": null,
   "id": "95b54efa-917b-4ac4-8028-f304f28021c1",
   "metadata": {},
   "outputs": [],
   "source": []
  }
 ],
 "metadata": {
  "kernelspec": {
   "display_name": "Python 3 (ipykernel)",
   "language": "python",
   "name": "python3"
  },
  "language_info": {
   "codemirror_mode": {
    "name": "ipython",
    "version": 3
   },
   "file_extension": ".py",
   "mimetype": "text/x-python",
   "name": "python",
   "nbconvert_exporter": "python",
   "pygments_lexer": "ipython3",
   "version": "3.7.13"
  }
 },
 "nbformat": 4,
 "nbformat_minor": 5
}

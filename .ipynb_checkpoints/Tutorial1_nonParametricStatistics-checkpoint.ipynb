{
 "cells": [
  {
   "cell_type": "markdown",
   "id": "215aa03b-3931-49b4-86e4-c504e1934ca2",
   "metadata": {},
   "source": [
    "# Statistical Analysis II - Practicum 1"
   ]
  },
  {
   "cell_type": "markdown",
   "id": "403e08e7-1fa2-45db-9888-a695af903c82",
   "metadata": {},
   "source": [
    "## Non-parametric statistics"
   ]
  },
  {
   "cell_type": "code",
   "execution_count": 37,
   "id": "cdc793b5-00af-49c8-8faa-5b4a442afe14",
   "metadata": {},
   "outputs": [],
   "source": [
    "import matplotlib.pyplot as plt\n",
    "import numpy as np\n",
    "import pandas as pd\n",
    "from scipy.stats import wilcoxon"
   ]
  },
  {
   "cell_type": "markdown",
   "id": "a3e69370-6038-451f-940f-c1f52c42755a",
   "metadata": {},
   "source": [
    "### Mann-Whitney U-test (Wilcoxon rank sum test)"
   ]
  },
  {
   "cell_type": "code",
   "execution_count": null,
   "id": "b52cc577-04ba-4c0f-ae8f-2e63a6d7d773",
   "metadata": {},
   "outputs": [],
   "source": []
  },
  {
   "cell_type": "markdown",
   "id": "c4d62bb1-2a00-461c-b06b-ced3247407aa",
   "metadata": {},
   "source": [
    "### Wilcoxon signed rank test"
   ]
  },
  {
   "cell_type": "markdown",
   "id": "253ac0a1-2c43-402c-a7ef-db0946929c7a",
   "metadata": {},
   "source": [
    "Example from [the web](https://sphweb.bumc.bu.edu/otlt/mph-modules/bs/bs704_nonparametric/BS704_Nonparametric6.html)"
   ]
  },
  {
   "cell_type": "markdown",
   "id": "997c8a36-57b3-4466-b4cf-e912a31f8366",
   "metadata": {},
   "source": [
    "Let's use the Wilcoxon Signed Rank Test to assessed the effectiveness of a new drug designed to reduce repetitive behaviors in children affected with autism. \n",
    "A total of 8 children with autism enroll in the study and the amount of time that each child is engaged in repetitive behavior during three hour observation periods are measured both before treatment and then again after taking the new medication for a period of 1 week. The data are shown below. "
   ]
  },
  {
   "cell_type": "code",
   "execution_count": 16,
   "id": "a2e9d236-73f3-450b-b3a7-5ebe8ca44e86",
   "metadata": {},
   "outputs": [
    {
     "data": {
      "text/html": [
       "<div>\n",
       "<style scoped>\n",
       "    .dataframe tbody tr th:only-of-type {\n",
       "        vertical-align: middle;\n",
       "    }\n",
       "\n",
       "    .dataframe tbody tr th {\n",
       "        vertical-align: top;\n",
       "    }\n",
       "\n",
       "    .dataframe thead th {\n",
       "        text-align: right;\n",
       "    }\n",
       "</style>\n",
       "<table border=\"1\" class=\"dataframe\">\n",
       "  <thead>\n",
       "    <tr style=\"text-align: right;\">\n",
       "      <th></th>\n",
       "      <th>Before_treatment</th>\n",
       "      <th>After_1_week_treatment</th>\n",
       "    </tr>\n",
       "    <tr>\n",
       "      <th>Child</th>\n",
       "      <th></th>\n",
       "      <th></th>\n",
       "    </tr>\n",
       "  </thead>\n",
       "  <tbody>\n",
       "    <tr>\n",
       "      <th>0</th>\n",
       "      <td>85</td>\n",
       "      <td>75</td>\n",
       "    </tr>\n",
       "    <tr>\n",
       "      <th>1</th>\n",
       "      <td>70</td>\n",
       "      <td>50</td>\n",
       "    </tr>\n",
       "    <tr>\n",
       "      <th>2</th>\n",
       "      <td>40</td>\n",
       "      <td>50</td>\n",
       "    </tr>\n",
       "    <tr>\n",
       "      <th>3</th>\n",
       "      <td>65</td>\n",
       "      <td>40</td>\n",
       "    </tr>\n",
       "    <tr>\n",
       "      <th>4</th>\n",
       "      <td>80</td>\n",
       "      <td>20</td>\n",
       "    </tr>\n",
       "    <tr>\n",
       "      <th>5</th>\n",
       "      <td>75</td>\n",
       "      <td>65</td>\n",
       "    </tr>\n",
       "    <tr>\n",
       "      <th>6</th>\n",
       "      <td>55</td>\n",
       "      <td>40</td>\n",
       "    </tr>\n",
       "    <tr>\n",
       "      <th>7</th>\n",
       "      <td>20</td>\n",
       "      <td>25</td>\n",
       "    </tr>\n",
       "  </tbody>\n",
       "</table>\n",
       "</div>"
      ],
      "text/plain": [
       "       Before_treatment  After_1_week_treatment\n",
       "Child                                          \n",
       "0                    85                      75\n",
       "1                    70                      50\n",
       "2                    40                      50\n",
       "3                    65                      40\n",
       "4                    80                      20\n",
       "5                    75                      65\n",
       "6                    55                      40\n",
       "7                    20                      25"
      ]
     },
     "execution_count": 16,
     "metadata": {},
     "output_type": "execute_result"
    }
   ],
   "source": [
    "df = pd.DataFrame({'Child':np.arange(8),\n",
    "                   'Before_treatment': [85,70,40,65,80,75,55,20],\n",
    "                   'After_1_week_treatment': [75,50,50,40,20,65,40,25]})\n",
    "df = df.set_index('Child')\n",
    "df"
   ]
  },
  {
   "cell_type": "code",
   "execution_count": 17,
   "id": "3eb68c5f-c759-4a57-bcdd-28edbc811ea8",
   "metadata": {},
   "outputs": [
    {
     "data": {
      "text/html": [
       "<div>\n",
       "<style scoped>\n",
       "    .dataframe tbody tr th:only-of-type {\n",
       "        vertical-align: middle;\n",
       "    }\n",
       "\n",
       "    .dataframe tbody tr th {\n",
       "        vertical-align: top;\n",
       "    }\n",
       "\n",
       "    .dataframe thead th {\n",
       "        text-align: right;\n",
       "    }\n",
       "</style>\n",
       "<table border=\"1\" class=\"dataframe\">\n",
       "  <thead>\n",
       "    <tr style=\"text-align: right;\">\n",
       "      <th></th>\n",
       "      <th>Before_treatment</th>\n",
       "      <th>After_1_week_treatment</th>\n",
       "      <th>difference</th>\n",
       "    </tr>\n",
       "    <tr>\n",
       "      <th>Child</th>\n",
       "      <th></th>\n",
       "      <th></th>\n",
       "      <th></th>\n",
       "    </tr>\n",
       "  </thead>\n",
       "  <tbody>\n",
       "    <tr>\n",
       "      <th>0</th>\n",
       "      <td>85</td>\n",
       "      <td>75</td>\n",
       "      <td>10</td>\n",
       "    </tr>\n",
       "    <tr>\n",
       "      <th>1</th>\n",
       "      <td>70</td>\n",
       "      <td>50</td>\n",
       "      <td>20</td>\n",
       "    </tr>\n",
       "    <tr>\n",
       "      <th>2</th>\n",
       "      <td>40</td>\n",
       "      <td>50</td>\n",
       "      <td>-10</td>\n",
       "    </tr>\n",
       "    <tr>\n",
       "      <th>3</th>\n",
       "      <td>65</td>\n",
       "      <td>40</td>\n",
       "      <td>25</td>\n",
       "    </tr>\n",
       "    <tr>\n",
       "      <th>4</th>\n",
       "      <td>80</td>\n",
       "      <td>20</td>\n",
       "      <td>60</td>\n",
       "    </tr>\n",
       "    <tr>\n",
       "      <th>5</th>\n",
       "      <td>75</td>\n",
       "      <td>65</td>\n",
       "      <td>10</td>\n",
       "    </tr>\n",
       "    <tr>\n",
       "      <th>6</th>\n",
       "      <td>55</td>\n",
       "      <td>40</td>\n",
       "      <td>15</td>\n",
       "    </tr>\n",
       "    <tr>\n",
       "      <th>7</th>\n",
       "      <td>20</td>\n",
       "      <td>25</td>\n",
       "      <td>-5</td>\n",
       "    </tr>\n",
       "  </tbody>\n",
       "</table>\n",
       "</div>"
      ],
      "text/plain": [
       "       Before_treatment  After_1_week_treatment  difference\n",
       "Child                                                      \n",
       "0                    85                      75          10\n",
       "1                    70                      50          20\n",
       "2                    40                      50         -10\n",
       "3                    65                      40          25\n",
       "4                    80                      20          60\n",
       "5                    75                      65          10\n",
       "6                    55                      40          15\n",
       "7                    20                      25          -5"
      ]
     },
     "execution_count": 17,
     "metadata": {},
     "output_type": "execute_result"
    }
   ],
   "source": [
    "df['difference']=df.Before_treatment-df.After_1_week_treatment\n",
    "df"
   ]
  },
  {
   "cell_type": "code",
   "execution_count": 19,
   "id": "6bc65c2a-c86b-4940-9fb9-9b3798b0c7aa",
   "metadata": {},
   "outputs": [
    {
     "data": {
      "text/html": [
       "<div>\n",
       "<style scoped>\n",
       "    .dataframe tbody tr th:only-of-type {\n",
       "        vertical-align: middle;\n",
       "    }\n",
       "\n",
       "    .dataframe tbody tr th {\n",
       "        vertical-align: top;\n",
       "    }\n",
       "\n",
       "    .dataframe thead th {\n",
       "        text-align: right;\n",
       "    }\n",
       "</style>\n",
       "<table border=\"1\" class=\"dataframe\">\n",
       "  <thead>\n",
       "    <tr style=\"text-align: right;\">\n",
       "      <th></th>\n",
       "      <th>Before_treatment</th>\n",
       "      <th>After_1_week_treatment</th>\n",
       "      <th>difference</th>\n",
       "      <th>Ranks</th>\n",
       "      <th>Ranks_abs</th>\n",
       "    </tr>\n",
       "    <tr>\n",
       "      <th>Child</th>\n",
       "      <th></th>\n",
       "      <th></th>\n",
       "      <th></th>\n",
       "      <th></th>\n",
       "      <th></th>\n",
       "    </tr>\n",
       "  </thead>\n",
       "  <tbody>\n",
       "    <tr>\n",
       "      <th>0</th>\n",
       "      <td>85</td>\n",
       "      <td>75</td>\n",
       "      <td>10</td>\n",
       "      <td>3.0</td>\n",
       "      <td>3.0</td>\n",
       "    </tr>\n",
       "    <tr>\n",
       "      <th>1</th>\n",
       "      <td>70</td>\n",
       "      <td>50</td>\n",
       "      <td>20</td>\n",
       "      <td>6.0</td>\n",
       "      <td>6.0</td>\n",
       "    </tr>\n",
       "    <tr>\n",
       "      <th>2</th>\n",
       "      <td>40</td>\n",
       "      <td>50</td>\n",
       "      <td>-10</td>\n",
       "      <td>3.0</td>\n",
       "      <td>3.0</td>\n",
       "    </tr>\n",
       "    <tr>\n",
       "      <th>3</th>\n",
       "      <td>65</td>\n",
       "      <td>40</td>\n",
       "      <td>25</td>\n",
       "      <td>7.0</td>\n",
       "      <td>7.0</td>\n",
       "    </tr>\n",
       "    <tr>\n",
       "      <th>4</th>\n",
       "      <td>80</td>\n",
       "      <td>20</td>\n",
       "      <td>60</td>\n",
       "      <td>8.0</td>\n",
       "      <td>8.0</td>\n",
       "    </tr>\n",
       "    <tr>\n",
       "      <th>5</th>\n",
       "      <td>75</td>\n",
       "      <td>65</td>\n",
       "      <td>10</td>\n",
       "      <td>3.0</td>\n",
       "      <td>3.0</td>\n",
       "    </tr>\n",
       "    <tr>\n",
       "      <th>6</th>\n",
       "      <td>55</td>\n",
       "      <td>40</td>\n",
       "      <td>15</td>\n",
       "      <td>5.0</td>\n",
       "      <td>5.0</td>\n",
       "    </tr>\n",
       "    <tr>\n",
       "      <th>7</th>\n",
       "      <td>20</td>\n",
       "      <td>25</td>\n",
       "      <td>-5</td>\n",
       "      <td>1.0</td>\n",
       "      <td>1.0</td>\n",
       "    </tr>\n",
       "  </tbody>\n",
       "</table>\n",
       "</div>"
      ],
      "text/plain": [
       "       Before_treatment  After_1_week_treatment  difference  Ranks  Ranks_abs\n",
       "Child                                                                        \n",
       "0                    85                      75          10    3.0        3.0\n",
       "1                    70                      50          20    6.0        6.0\n",
       "2                    40                      50         -10    3.0        3.0\n",
       "3                    65                      40          25    7.0        7.0\n",
       "4                    80                      20          60    8.0        8.0\n",
       "5                    75                      65          10    3.0        3.0\n",
       "6                    55                      40          15    5.0        5.0\n",
       "7                    20                      25          -5    1.0        1.0"
      ]
     },
     "execution_count": 19,
     "metadata": {},
     "output_type": "execute_result"
    }
   ],
   "source": [
    "df['Ranks_abs'] = df['difference'].abs().rank()\n",
    "df"
   ]
  },
  {
   "cell_type": "code",
   "execution_count": 20,
   "id": "8d5f0ec2-07b6-4a2c-9705-5f6ede8b827f",
   "metadata": {},
   "outputs": [
    {
     "data": {
      "text/html": [
       "<div>\n",
       "<style scoped>\n",
       "    .dataframe tbody tr th:only-of-type {\n",
       "        vertical-align: middle;\n",
       "    }\n",
       "\n",
       "    .dataframe tbody tr th {\n",
       "        vertical-align: top;\n",
       "    }\n",
       "\n",
       "    .dataframe thead th {\n",
       "        text-align: right;\n",
       "    }\n",
       "</style>\n",
       "<table border=\"1\" class=\"dataframe\">\n",
       "  <thead>\n",
       "    <tr style=\"text-align: right;\">\n",
       "      <th></th>\n",
       "      <th>Before_treatment</th>\n",
       "      <th>After_1_week_treatment</th>\n",
       "      <th>difference</th>\n",
       "      <th>Ranks</th>\n",
       "      <th>Ranks_abs</th>\n",
       "      <th>Signed_ranks</th>\n",
       "    </tr>\n",
       "    <tr>\n",
       "      <th>Child</th>\n",
       "      <th></th>\n",
       "      <th></th>\n",
       "      <th></th>\n",
       "      <th></th>\n",
       "      <th></th>\n",
       "      <th></th>\n",
       "    </tr>\n",
       "  </thead>\n",
       "  <tbody>\n",
       "    <tr>\n",
       "      <th>0</th>\n",
       "      <td>85</td>\n",
       "      <td>75</td>\n",
       "      <td>10</td>\n",
       "      <td>3.0</td>\n",
       "      <td>3.0</td>\n",
       "      <td>3.0</td>\n",
       "    </tr>\n",
       "    <tr>\n",
       "      <th>1</th>\n",
       "      <td>70</td>\n",
       "      <td>50</td>\n",
       "      <td>20</td>\n",
       "      <td>6.0</td>\n",
       "      <td>6.0</td>\n",
       "      <td>6.0</td>\n",
       "    </tr>\n",
       "    <tr>\n",
       "      <th>2</th>\n",
       "      <td>40</td>\n",
       "      <td>50</td>\n",
       "      <td>-10</td>\n",
       "      <td>3.0</td>\n",
       "      <td>3.0</td>\n",
       "      <td>-3.0</td>\n",
       "    </tr>\n",
       "    <tr>\n",
       "      <th>3</th>\n",
       "      <td>65</td>\n",
       "      <td>40</td>\n",
       "      <td>25</td>\n",
       "      <td>7.0</td>\n",
       "      <td>7.0</td>\n",
       "      <td>7.0</td>\n",
       "    </tr>\n",
       "    <tr>\n",
       "      <th>4</th>\n",
       "      <td>80</td>\n",
       "      <td>20</td>\n",
       "      <td>60</td>\n",
       "      <td>8.0</td>\n",
       "      <td>8.0</td>\n",
       "      <td>8.0</td>\n",
       "    </tr>\n",
       "    <tr>\n",
       "      <th>5</th>\n",
       "      <td>75</td>\n",
       "      <td>65</td>\n",
       "      <td>10</td>\n",
       "      <td>3.0</td>\n",
       "      <td>3.0</td>\n",
       "      <td>3.0</td>\n",
       "    </tr>\n",
       "    <tr>\n",
       "      <th>6</th>\n",
       "      <td>55</td>\n",
       "      <td>40</td>\n",
       "      <td>15</td>\n",
       "      <td>5.0</td>\n",
       "      <td>5.0</td>\n",
       "      <td>5.0</td>\n",
       "    </tr>\n",
       "    <tr>\n",
       "      <th>7</th>\n",
       "      <td>20</td>\n",
       "      <td>25</td>\n",
       "      <td>-5</td>\n",
       "      <td>1.0</td>\n",
       "      <td>1.0</td>\n",
       "      <td>-1.0</td>\n",
       "    </tr>\n",
       "  </tbody>\n",
       "</table>\n",
       "</div>"
      ],
      "text/plain": [
       "       Before_treatment  After_1_week_treatment  difference  Ranks  Ranks_abs  \\\n",
       "Child                                                                           \n",
       "0                    85                      75          10    3.0        3.0   \n",
       "1                    70                      50          20    6.0        6.0   \n",
       "2                    40                      50         -10    3.0        3.0   \n",
       "3                    65                      40          25    7.0        7.0   \n",
       "4                    80                      20          60    8.0        8.0   \n",
       "5                    75                      65          10    3.0        3.0   \n",
       "6                    55                      40          15    5.0        5.0   \n",
       "7                    20                      25          -5    1.0        1.0   \n",
       "\n",
       "       Signed_ranks  \n",
       "Child                \n",
       "0               3.0  \n",
       "1               6.0  \n",
       "2              -3.0  \n",
       "3               7.0  \n",
       "4               8.0  \n",
       "5               3.0  \n",
       "6               5.0  \n",
       "7              -1.0  "
      ]
     },
     "execution_count": 20,
     "metadata": {},
     "output_type": "execute_result"
    }
   ],
   "source": [
    "df['Signed_ranks'] = df.Ranks_abs*np.sign(df.difference)\n",
    "df"
   ]
  },
  {
   "cell_type": "markdown",
   "id": "b28a21b9-fbc0-4d0a-9bcd-2cf8db60f4a5",
   "metadata": {},
   "source": [
    "Hypotheses for the *Wilcoxon Signed Rank Test* concern the population median of the difference scores. The research hypothesis can be one- or two-sided. Here we consider a one-sided test.\n",
    "\n",
    "\n",
    "**H0: The median difference is zero**\n",
    "\n",
    "versus\n",
    "\n",
    "**H1: The median difference is positive $\\alpha$=0.05**"
   ]
  },
  {
   "cell_type": "markdown",
   "id": "a5557b04-adff-4f49-bcca-8e6186ba5cdd",
   "metadata": {},
   "source": [
    "#### Test Statistic for the Wilcoxon Signed Rank Test\n",
    "The test statistic for the Wilcoxon Signed Rank Test is W, defined as the smaller of **$W^+$** (sum of the positive ranks) and **$W^-$** (sum of the negative ranks). If the null hypothesis is true, we expect to see similar numbers of lower and higher ranks that are both positive and negative (i.e., W+ and W- would be similar). If the research hypothesis is true we expect to see more higher and positive ranks (in this example, more children with substantial improvement in repetitive behavior after treatment as compared to before, i.e., W+ much larger than W-).\n",
    "\n",
    "In this example, **$W^+$ = 32** and **$W^-$ = 4**. Recall that the sum of the ranks (ignoring the signs) will always equal n(n+1)/2. As a check on our assignment of ranks, we have n(n+1)/2 = 8(9)/2 = 36 which is equal to 32+4. The test statistic is W = 4.\n",
    "\n",
    "Next we must determine whether the observed test statistic W supports the null or research hypothesis. This is done following the same approach used in parametric testing. Specifically, we determine a critical value of W such that if the observed value of W is less than or equal to the critical value, we reject H0 in favor of H1, and if the observed value of W exceeds the critical value, we do not reject H0."
   ]
  },
  {
   "cell_type": "markdown",
   "id": "14aff67e-3b77-4eb8-9c6e-578944ebf5fd",
   "metadata": {},
   "source": [
    "![title](images/significance_table.png)"
   ]
  },
  {
   "cell_type": "markdown",
   "id": "dda47b9a-6331-44ca-9687-6347813ef62d",
   "metadata": {},
   "source": [
    "To determine the appropriate one-sided critical value we need sample size **(n=8)** and our one-sided level of significance ($\\alpha$=0.05). For this example, __the critical value of W is 6__ and the decision rule is to reject **H0** if W < 6. Thus, **we reject H0, because 4 < 6**. We have statistically significant evidence at α =0.05, to show that the median difference is positive (i.e., that repetitive behavior decreases, hence the treatment is effective.)"
   ]
  },
  {
   "cell_type": "markdown",
   "id": "75074fc3-2e76-4da7-a701-318bd0b62a2d",
   "metadata": {},
   "source": [
    "How would it have been with python scipy? Can see the details of the documentation [here](https://docs.scipy.org/doc/scipy/reference/generated/scipy.stats.wilcoxon.html)"
   ]
  },
  {
   "cell_type": "code",
   "execution_count": 24,
   "id": "72f1adb5-0148-42b5-aa6d-50d15031dea3",
   "metadata": {},
   "outputs": [
    {
     "data": {
      "text/plain": [
       "WilcoxonResult(statistic=32.0, pvalue=0.02734375)"
      ]
     },
     "execution_count": 24,
     "metadata": {},
     "output_type": "execute_result"
    }
   ],
   "source": [
    "wilcoxon(df.difference,alternative='greater')"
   ]
  },
  {
   "cell_type": "code",
   "execution_count": 25,
   "id": "4ca9afa6-098e-45c8-8825-8016ea5ef613",
   "metadata": {},
   "outputs": [
    {
     "data": {
      "text/plain": [
       "WilcoxonResult(statistic=32.0, pvalue=0.02734375)"
      ]
     },
     "execution_count": 25,
     "metadata": {},
     "output_type": "execute_result"
    }
   ],
   "source": [
    "wilcoxon(x=df.Before_treatment,y=df.After_1_week_treatment,alternative='greater')"
   ]
  },
  {
   "cell_type": "markdown",
   "id": "71322113-8dcc-4586-9193-1c57ee0fc2a1",
   "metadata": {},
   "source": [
    "Now try one example for yourself from this [database](https://github.com/Opensourcefordatascience/Data-sets/blob/master/blood_pressure.csv).\n",
    "\n",
    "**Is the difference in blood pressure significant before and after the intervention?**"
   ]
  },
  {
   "cell_type": "code",
   "execution_count": 35,
   "id": "e191ade5-9857-47e8-b1ff-daa362f23338",
   "metadata": {},
   "outputs": [],
   "source": [
    "df_html=pd.read_html('https://github.com/Opensourcefordatascience/Data-sets/blob/master/blood_pressure.csv',\n",
    "             header=0,index_col=1)[0]"
   ]
  },
  {
   "cell_type": "code",
   "execution_count": 36,
   "id": "8e69b48d-c189-47d7-8dd2-04ac0ba25070",
   "metadata": {},
   "outputs": [
    {
     "data": {
      "text/html": [
       "<div>\n",
       "<style scoped>\n",
       "    .dataframe tbody tr th:only-of-type {\n",
       "        vertical-align: middle;\n",
       "    }\n",
       "\n",
       "    .dataframe tbody tr th {\n",
       "        vertical-align: top;\n",
       "    }\n",
       "\n",
       "    .dataframe thead th {\n",
       "        text-align: right;\n",
       "    }\n",
       "</style>\n",
       "<table border=\"1\" class=\"dataframe\">\n",
       "  <thead>\n",
       "    <tr style=\"text-align: right;\">\n",
       "      <th></th>\n",
       "      <th>bp_before</th>\n",
       "      <th>bp_after</th>\n",
       "    </tr>\n",
       "  </thead>\n",
       "  <tbody>\n",
       "    <tr>\n",
       "      <th>count</th>\n",
       "      <td>120.000000</td>\n",
       "      <td>120.000000</td>\n",
       "    </tr>\n",
       "    <tr>\n",
       "      <th>mean</th>\n",
       "      <td>156.450000</td>\n",
       "      <td>151.358333</td>\n",
       "    </tr>\n",
       "    <tr>\n",
       "      <th>std</th>\n",
       "      <td>11.389845</td>\n",
       "      <td>14.177622</td>\n",
       "    </tr>\n",
       "    <tr>\n",
       "      <th>min</th>\n",
       "      <td>138.000000</td>\n",
       "      <td>125.000000</td>\n",
       "    </tr>\n",
       "    <tr>\n",
       "      <th>25%</th>\n",
       "      <td>147.000000</td>\n",
       "      <td>140.750000</td>\n",
       "    </tr>\n",
       "    <tr>\n",
       "      <th>50%</th>\n",
       "      <td>154.500000</td>\n",
       "      <td>149.500000</td>\n",
       "    </tr>\n",
       "    <tr>\n",
       "      <th>75%</th>\n",
       "      <td>164.000000</td>\n",
       "      <td>161.000000</td>\n",
       "    </tr>\n",
       "    <tr>\n",
       "      <th>max</th>\n",
       "      <td>185.000000</td>\n",
       "      <td>185.000000</td>\n",
       "    </tr>\n",
       "  </tbody>\n",
       "</table>\n",
       "</div>"
      ],
      "text/plain": [
       "        bp_before    bp_after\n",
       "count  120.000000  120.000000\n",
       "mean   156.450000  151.358333\n",
       "std     11.389845   14.177622\n",
       "min    138.000000  125.000000\n",
       "25%    147.000000  140.750000\n",
       "50%    154.500000  149.500000\n",
       "75%    164.000000  161.000000\n",
       "max    185.000000  185.000000"
      ]
     },
     "execution_count": 36,
     "metadata": {},
     "output_type": "execute_result"
    }
   ],
   "source": [
    "df_html[['bp_before','bp_after']].describe()"
   ]
  },
  {
   "cell_type": "code",
   "execution_count": 38,
   "id": "023d6452-56b9-46ef-93a6-eae461fa720b",
   "metadata": {},
   "outputs": [
    {
     "data": {
      "text/plain": [
       "<AxesSubplot:>"
      ]
     },
     "execution_count": 38,
     "metadata": {},
     "output_type": "execute_result"
    },
    {
     "data": {
      "image/png": "[encoded data removed]",
      "text/plain": [
       "<Figure size 640x480 with 1 Axes>"
      ]
     },
     "metadata": {},
     "output_type": "display_data"
    }
   ],
   "source": [
    "df_html[['bp_before','bp_after']].plot.box()"
   ]
  },
  {
   "cell_type": "code",
   "execution_count": 42,
   "id": "041b518c-edc3-478d-b0da-f5adbb3114ea",
   "metadata": {},
   "outputs": [
    {
     "data": {
      "text/plain": [
       "<AxesSubplot:ylabel='Frequency'>"
      ]
     },
     "execution_count": 42,
     "metadata": {},
     "output_type": "execute_result"
    },
    {
     "data": {
      "image/png": "[encoded data removed]",
      "text/plain": [
       "<Figure size 640x480 with 1 Axes>"
      ]
     },
     "metadata": {},
     "output_type": "display_data"
    }
   ],
   "source": [
    "df_html[['bp_before','bp_after']].plot.hist()"
   ]
  },
  {
   "cell_type": "code",
   "execution_count": 45,
   "id": "9beb140c-a118-47aa-b64c-e19d77ff26e2",
   "metadata": {},
   "outputs": [
    {
     "data": {
      "text/plain": [
       "WilcoxonResult(statistic=2234.5, pvalue=0.0014107333565442858)"
      ]
     },
     "execution_count": 45,
     "metadata": {},
     "output_type": "execute_result"
    }
   ],
   "source": [
    "wilcoxon(df_html['bp_before'], df_html['bp_after'])"
   ]
  },
  {
   "cell_type": "code",
   "execution_count": null,
   "id": "485c6e4d-ecf2-4bbb-ad25-2f69234d31dc",
   "metadata": {},
   "outputs": [],
   "source": []
  },
  {
   "cell_type": "markdown",
   "id": "9fa99922-6f03-445c-b1df-ab04c70cb121",
   "metadata": {},
   "source": [
    "### Sperman rho correlation"
   ]
  },
  {
   "cell_type": "markdown",
   "id": "43c8649e-7eea-4945-b5b5-15f018e9d93b",
   "metadata": {},
   "source": [
    " ### Kendall tau correlation "
   ]
  },
  {
   "cell_type": "code",
   "execution_count": null,
   "id": "62a7ca61-4584-46d1-81dd-5c18e087281e",
   "metadata": {},
   "outputs": [],
   "source": []
  }
 ],
 "metadata": {
  "kernelspec": {
   "display_name": "Python 3 (ipykernel)",
   "language": "python",
   "name": "python3"
  },
  "language_info": {
   "codemirror_mode": {
    "name": "ipython",
    "version": 3
   },
   "file_extension": ".py",
   "mimetype": "text/x-python",
   "name": "python",
   "nbconvert_exporter": "python",
   "pygments_lexer": "ipython3",
   "version": "3.7.13"
  }
 },
 "nbformat": 4,
 "nbformat_minor": 5
}

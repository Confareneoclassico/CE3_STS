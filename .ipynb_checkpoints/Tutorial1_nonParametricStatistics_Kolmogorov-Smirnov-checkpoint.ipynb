{
 "cells": [
  {
   "cell_type": "markdown",
   "id": "215aa03b-3931-49b4-86e4-c504e1934ca2",
   "metadata": {},
   "source": [
    "# Statistical Analysis II - Practicum 1"
   ]
  },
  {
   "cell_type": "markdown",
   "id": "403e08e7-1fa2-45db-9888-a695af903c82",
   "metadata": {},
   "source": [
    "## Non-parametric statistics"
   ]
  },
  {
   "cell_type": "code",
   "execution_count": 2,
   "id": "cdc793b5-00af-49c8-8faa-5b4a442afe14",
   "metadata": {},
   "outputs": [],
   "source": [
    "import matplotlib.pyplot as plt\n",
    "import numpy as np\n",
    "import pandas as pd\n",
    "from scipy.stats import spearmanr, kendalltau"
   ]
  },
  {
   "cell_type": "markdown",
   "id": "c4d62bb1-2a00-461c-b06b-ced3247407aa",
   "metadata": {},
   "source": [
    "### Spearman $\\rho$ and Kendall $\\tau$ correlation coefficients"
   ]
  },
  {
   "cell_type": "markdown",
   "id": "253ac0a1-2c43-402c-a7ef-db0946929c7a",
   "metadata": {},
   "source": [
    "Example from [the web](https://www.statology.org/spearman-correlation-python/)"
   ]
  },
  {
   "cell_type": "markdown",
   "id": "997c8a36-57b3-4466-b4cf-e912a31f8366",
   "metadata": {},
   "source": [
    "In statistics, correlation refers to the strength and direction of a relationship between two variables. The value of a correlation coefficient can range from -1 to 1, with the following interpretations:\n",
    "\n",
    "- -1: a perfect negative relationship between two variables\n",
    "- 0: no relationship between two variables\n",
    "- 1: a perfect positive relationship between two variables\n",
    "\n",
    "One special type of correlation is called **Spearman Rank Correlation**, which is used to measure the correlation between two ranked variables. \n",
    "\n",
    "Kendall’s $\\tau$ is a measure of the correspondence between two rankings. Values close to 1 indicate strong agreement (ranks grow together), and values close to -1 indicate strong disagreement (ranks follow an opposite trend).\n",
    "\n",
    "(E.g. rank of a student’s math exam score vs. rank of their English exam score in a class)."
   ]
  },
  {
   "cell_type": "code",
   "execution_count": 3,
   "id": "a2e9d236-73f3-450b-b3a7-5ebe8ca44e86",
   "metadata": {},
   "outputs": [],
   "source": [
    "#create DataFrame\n",
    "df = pd.DataFrame({'student': ['A', 'B', 'C', 'D', 'E', 'F', 'G', 'H', 'I', 'J'],\n",
    "                   'math': [70, 78, 90, 87, 84, 86, 91, 74, 83, 85],\n",
    "                   'English': [90, 94, 79, 86, 84, 83, 88, 92, 76, 75]})\n",
    "df.index = df.student"
   ]
  },
  {
   "cell_type": "markdown",
   "id": "6af3b983-3948-4d41-b291-11fe184b6b9f",
   "metadata": {},
   "source": [
    "Let us firstly inspect the data through a scatter plot"
   ]
  },
  {
   "cell_type": "code",
   "execution_count": 4,
   "id": "a843d1d1-3a02-4d93-8a9f-29a69a51fdfd",
   "metadata": {},
   "outputs": [
    {
     "data": {
      "image/png": "[encoded data removed]",
      "text/plain": [
       "<Figure size 640x480 with 1 Axes>"
      ]
     },
     "metadata": {},
     "output_type": "display_data"
    }
   ],
   "source": [
    "df.plot.scatter('math','English')\n",
    "plt.show()"
   ]
  },
  {
   "cell_type": "markdown",
   "id": "2a0398bb-f7ba-4364-b154-b3185f1582e0",
   "metadata": {},
   "source": [
    "Let's firstly manually calculate the coefficients"
   ]
  },
  {
   "cell_type": "code",
   "execution_count": 5,
   "id": "6bc65c2a-c86b-4940-9fb9-9b3798b0c7aa",
   "metadata": {},
   "outputs": [
    {
     "name": "stdout",
     "output_type": "stream",
     "text": [
      "-0.41818181818181815\n",
      "0.22911284098281892\n"
     ]
    }
   ],
   "source": [
    "#calculate Spearman Rank correlation and corresponding p-value\n",
    "rho, p_rho = spearmanr(df['math'], df['English'])\n",
    "\n",
    "#print Spearman rank correlation and p-value\n",
    "print(rho)\n",
    "\n",
    "print(p_rho)"
   ]
  },
  {
   "cell_type": "code",
   "execution_count": 7,
   "id": "a57eaaa8-2998-4efc-bd13-e949296e03ae",
   "metadata": {},
   "outputs": [],
   "source": [
    "df['math_rank']=df['math'].rank()"
   ]
  },
  {
   "cell_type": "code",
   "execution_count": 8,
   "id": "9fb11b67-a46c-4c28-b6e0-8b34d454acfb",
   "metadata": {},
   "outputs": [],
   "source": [
    "df['English_rank']= df['English'].rank()"
   ]
  },
  {
   "cell_type": "code",
   "execution_count": 12,
   "id": "96af74ae-3ba3-402b-983a-f5c421cf24bb",
   "metadata": {},
   "outputs": [
    {
     "data": {
      "text/html": [
       "<div>\n",
       "<style scoped>\n",
       "    .dataframe tbody tr th:only-of-type {\n",
       "        vertical-align: middle;\n",
       "    }\n",
       "\n",
       "    .dataframe tbody tr th {\n",
       "        vertical-align: top;\n",
       "    }\n",
       "\n",
       "    .dataframe thead th {\n",
       "        text-align: right;\n",
       "    }\n",
       "</style>\n",
       "<table border=\"1\" class=\"dataframe\">\n",
       "  <thead>\n",
       "    <tr style=\"text-align: right;\">\n",
       "      <th></th>\n",
       "      <th>student</th>\n",
       "      <th>math</th>\n",
       "      <th>English</th>\n",
       "      <th>math_rank</th>\n",
       "      <th>English_rank</th>\n",
       "    </tr>\n",
       "    <tr>\n",
       "      <th>student</th>\n",
       "      <th></th>\n",
       "      <th></th>\n",
       "      <th></th>\n",
       "      <th></th>\n",
       "      <th></th>\n",
       "    </tr>\n",
       "  </thead>\n",
       "  <tbody>\n",
       "    <tr>\n",
       "      <th>A</th>\n",
       "      <td>A</td>\n",
       "      <td>70</td>\n",
       "      <td>90</td>\n",
       "      <td>1.0</td>\n",
       "      <td>8.0</td>\n",
       "    </tr>\n",
       "    <tr>\n",
       "      <th>H</th>\n",
       "      <td>H</td>\n",
       "      <td>74</td>\n",
       "      <td>92</td>\n",
       "      <td>2.0</td>\n",
       "      <td>9.0</td>\n",
       "    </tr>\n",
       "    <tr>\n",
       "      <th>B</th>\n",
       "      <td>B</td>\n",
       "      <td>78</td>\n",
       "      <td>94</td>\n",
       "      <td>3.0</td>\n",
       "      <td>10.0</td>\n",
       "    </tr>\n",
       "    <tr>\n",
       "      <th>I</th>\n",
       "      <td>I</td>\n",
       "      <td>83</td>\n",
       "      <td>76</td>\n",
       "      <td>4.0</td>\n",
       "      <td>2.0</td>\n",
       "    </tr>\n",
       "    <tr>\n",
       "      <th>E</th>\n",
       "      <td>E</td>\n",
       "      <td>84</td>\n",
       "      <td>84</td>\n",
       "      <td>5.0</td>\n",
       "      <td>5.0</td>\n",
       "    </tr>\n",
       "    <tr>\n",
       "      <th>J</th>\n",
       "      <td>J</td>\n",
       "      <td>85</td>\n",
       "      <td>75</td>\n",
       "      <td>6.0</td>\n",
       "      <td>1.0</td>\n",
       "    </tr>\n",
       "    <tr>\n",
       "      <th>F</th>\n",
       "      <td>F</td>\n",
       "      <td>86</td>\n",
       "      <td>83</td>\n",
       "      <td>7.0</td>\n",
       "      <td>4.0</td>\n",
       "    </tr>\n",
       "    <tr>\n",
       "      <th>D</th>\n",
       "      <td>D</td>\n",
       "      <td>87</td>\n",
       "      <td>86</td>\n",
       "      <td>8.0</td>\n",
       "      <td>6.0</td>\n",
       "    </tr>\n",
       "    <tr>\n",
       "      <th>C</th>\n",
       "      <td>C</td>\n",
       "      <td>90</td>\n",
       "      <td>79</td>\n",
       "      <td>9.0</td>\n",
       "      <td>3.0</td>\n",
       "    </tr>\n",
       "    <tr>\n",
       "      <th>G</th>\n",
       "      <td>G</td>\n",
       "      <td>91</td>\n",
       "      <td>88</td>\n",
       "      <td>10.0</td>\n",
       "      <td>7.0</td>\n",
       "    </tr>\n",
       "  </tbody>\n",
       "</table>\n",
       "</div>"
      ],
      "text/plain": [
       "        student  math  English  math_rank  English_rank\n",
       "student                                                \n",
       "A             A    70       90        1.0           8.0\n",
       "H             H    74       92        2.0           9.0\n",
       "B             B    78       94        3.0          10.0\n",
       "I             I    83       76        4.0           2.0\n",
       "E             E    84       84        5.0           5.0\n",
       "J             J    85       75        6.0           1.0\n",
       "F             F    86       83        7.0           4.0\n",
       "D             D    87       86        8.0           6.0\n",
       "C             C    90       79        9.0           3.0\n",
       "G             G    91       88       10.0           7.0"
      ]
     },
     "execution_count": 12,
     "metadata": {},
     "output_type": "execute_result"
    }
   ],
   "source": [
    "df.sort_values(by='math_rank')"
   ]
  },
  {
   "cell_type": "code",
   "execution_count": 6,
   "id": "23d7fc70-1cfe-401f-965b-bd611cf6689c",
   "metadata": {},
   "outputs": [
    {
     "name": "stdout",
     "output_type": "stream",
     "text": [
      "-0.19999999999999998\n",
      "0.4843127204585538\n"
     ]
    }
   ],
   "source": [
    "#calculate Spearman Rank correlation and corresponding p-value\n",
    "tau, p_tau = kendalltau(df['math'], df['English'])\n",
    "\n",
    "#print Spearman rank correlation and p-value\n",
    "print(tau)\n",
    "\n",
    "print(p_tau)"
   ]
  },
  {
   "cell_type": "code",
   "execution_count": null,
   "id": "b21b9070-5587-4fb5-a732-a1fdfa5d8c06",
   "metadata": {},
   "outputs": [],
   "source": []
  },
  {
   "cell_type": "code",
   "execution_count": 19,
   "id": "f25405d9-312d-4441-8592-fba5d799ed3a",
   "metadata": {},
   "outputs": [],
   "source": [
    "df['x2'] = df['math']**2\n",
    "df['y2'] = df['English']**2"
   ]
  },
  {
   "cell_type": "code",
   "execution_count": 20,
   "id": "94b8ccf3-c9ae-4711-b806-ae445182f3da",
   "metadata": {},
   "outputs": [
    {
     "data": {
      "text/plain": [
       "-0.5344407586588185"
      ]
     },
     "execution_count": 20,
     "metadata": {},
     "output_type": "execute_result"
    }
   ],
   "source": [
    "r = (len(df)*(df.math*df.English).sum() - df.math.sum()*df.English.sum())/\\\n",
    "    (np.sqrt(len(df)*df.x2.sum()-df.math.sum()**2)*np.sqrt(len(df)*df.y2.sum()-df.English.sum()**2))\n",
    "r"
   ]
  },
  {
   "cell_type": "markdown",
   "id": "0235acbd-ec21-4684-8648-97a622110a19",
   "metadata": {},
   "source": [
    "Further material available from [here](https://docs.scipy.org/doc/scipy/reference/generated/scipy.stats.spearmanr.html)"
   ]
  },
  {
   "cell_type": "code",
   "execution_count": null,
   "id": "da7ab7a5-7438-4fb3-b2a7-dd8703f45e29",
   "metadata": {},
   "outputs": [],
   "source": []
  }
 ],
 "metadata": {
  "kernelspec": {
   "display_name": "Python 3 (ipykernel)",
   "language": "python",
   "name": "python3"
  },
  "language_info": {
   "codemirror_mode": {
    "name": "ipython",
    "version": 3
   },
   "file_extension": ".py",
   "mimetype": "text/x-python",
   "name": "python",
   "nbconvert_exporter": "python",
   "pygments_lexer": "ipython3",
   "version": "3.7.13"
  }
 },
 "nbformat": 4,
 "nbformat_minor": 5
}

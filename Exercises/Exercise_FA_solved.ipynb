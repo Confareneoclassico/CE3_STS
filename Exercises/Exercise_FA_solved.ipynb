{
 "cells": [
  {
   "cell_type": "markdown",
   "id": "215aa03b-3931-49b4-86e4-c504e1934ca2",
   "metadata": {},
   "source": [
    "# Statistical Analysis II - Practicum 3"
   ]
  },
  {
   "cell_type": "code",
   "execution_count": 3,
   "id": "8d3a5eec-b4ec-4655-9f81-27ec4e61c5c0",
   "metadata": {},
   "outputs": [],
   "source": [
    "from factor_analyzer import FactorAnalyzer\n",
    "import matplotlib.pyplot as plt\n",
    "import numpy as np\n",
    "import pandas as pd"
   ]
  },
  {
   "cell_type": "markdown",
   "id": "71322113-8dcc-4586-9193-1c57ee0fc2a1",
   "metadata": {},
   "source": [
    "Load the personality assessment test (bfi dataset). Are there any latent variables that can explain the personality groups on the basis of a factor analysis?"
   ]
  },
  {
   "cell_type": "code",
   "execution_count": 4,
   "id": "4551273b-e365-4545-8a81-a97fa1596286",
   "metadata": {},
   "outputs": [],
   "source": [
    "df= pd.read_csv(\"./Datasets/bfi.csv\",index_col=0)"
   ]
  },
  {
   "cell_type": "code",
   "execution_count": 5,
   "id": "2f71f4ff-d5c0-49bc-8d6f-8f5a1828f91a",
   "metadata": {},
   "outputs": [
    {
     "data": {
      "text/html": [
       "<div>\n",
       "<style scoped>\n",
       "    .dataframe tbody tr th:only-of-type {\n",
       "        vertical-align: middle;\n",
       "    }\n",
       "\n",
       "    .dataframe tbody tr th {\n",
       "        vertical-align: top;\n",
       "    }\n",
       "\n",
       "    .dataframe thead th {\n",
       "        text-align: right;\n",
       "    }\n",
       "</style>\n",
       "<table border=\"1\" class=\"dataframe\">\n",
       "  <thead>\n",
       "    <tr style=\"text-align: right;\">\n",
       "      <th></th>\n",
       "      <th>A1</th>\n",
       "      <th>A2</th>\n",
       "      <th>A3</th>\n",
       "      <th>A4</th>\n",
       "      <th>A5</th>\n",
       "      <th>C1</th>\n",
       "      <th>C2</th>\n",
       "      <th>C3</th>\n",
       "      <th>C4</th>\n",
       "      <th>C5</th>\n",
       "      <th>...</th>\n",
       "      <th>N4</th>\n",
       "      <th>N5</th>\n",
       "      <th>O1</th>\n",
       "      <th>O2</th>\n",
       "      <th>O3</th>\n",
       "      <th>O4</th>\n",
       "      <th>O5</th>\n",
       "      <th>gender</th>\n",
       "      <th>education</th>\n",
       "      <th>age</th>\n",
       "    </tr>\n",
       "  </thead>\n",
       "  <tbody>\n",
       "    <tr>\n",
       "      <th>61617</th>\n",
       "      <td>2.0</td>\n",
       "      <td>4.0</td>\n",
       "      <td>3.0</td>\n",
       "      <td>4.0</td>\n",
       "      <td>4.0</td>\n",
       "      <td>2.0</td>\n",
       "      <td>3.0</td>\n",
       "      <td>3.0</td>\n",
       "      <td>4.0</td>\n",
       "      <td>4.0</td>\n",
       "      <td>...</td>\n",
       "      <td>2.0</td>\n",
       "      <td>3.0</td>\n",
       "      <td>3.0</td>\n",
       "      <td>6</td>\n",
       "      <td>3.0</td>\n",
       "      <td>4.0</td>\n",
       "      <td>3.0</td>\n",
       "      <td>1</td>\n",
       "      <td>NaN</td>\n",
       "      <td>16</td>\n",
       "    </tr>\n",
       "    <tr>\n",
       "      <th>61618</th>\n",
       "      <td>2.0</td>\n",
       "      <td>4.0</td>\n",
       "      <td>5.0</td>\n",
       "      <td>2.0</td>\n",
       "      <td>5.0</td>\n",
       "      <td>5.0</td>\n",
       "      <td>4.0</td>\n",
       "      <td>4.0</td>\n",
       "      <td>3.0</td>\n",
       "      <td>4.0</td>\n",
       "      <td>...</td>\n",
       "      <td>5.0</td>\n",
       "      <td>5.0</td>\n",
       "      <td>4.0</td>\n",
       "      <td>2</td>\n",
       "      <td>4.0</td>\n",
       "      <td>3.0</td>\n",
       "      <td>3.0</td>\n",
       "      <td>2</td>\n",
       "      <td>NaN</td>\n",
       "      <td>18</td>\n",
       "    </tr>\n",
       "    <tr>\n",
       "      <th>61620</th>\n",
       "      <td>5.0</td>\n",
       "      <td>4.0</td>\n",
       "      <td>5.0</td>\n",
       "      <td>4.0</td>\n",
       "      <td>4.0</td>\n",
       "      <td>4.0</td>\n",
       "      <td>5.0</td>\n",
       "      <td>4.0</td>\n",
       "      <td>2.0</td>\n",
       "      <td>5.0</td>\n",
       "      <td>...</td>\n",
       "      <td>2.0</td>\n",
       "      <td>3.0</td>\n",
       "      <td>4.0</td>\n",
       "      <td>2</td>\n",
       "      <td>5.0</td>\n",
       "      <td>5.0</td>\n",
       "      <td>2.0</td>\n",
       "      <td>2</td>\n",
       "      <td>NaN</td>\n",
       "      <td>17</td>\n",
       "    </tr>\n",
       "    <tr>\n",
       "      <th>61621</th>\n",
       "      <td>4.0</td>\n",
       "      <td>4.0</td>\n",
       "      <td>6.0</td>\n",
       "      <td>5.0</td>\n",
       "      <td>5.0</td>\n",
       "      <td>4.0</td>\n",
       "      <td>4.0</td>\n",
       "      <td>3.0</td>\n",
       "      <td>5.0</td>\n",
       "      <td>5.0</td>\n",
       "      <td>...</td>\n",
       "      <td>4.0</td>\n",
       "      <td>1.0</td>\n",
       "      <td>3.0</td>\n",
       "      <td>3</td>\n",
       "      <td>4.0</td>\n",
       "      <td>3.0</td>\n",
       "      <td>5.0</td>\n",
       "      <td>2</td>\n",
       "      <td>NaN</td>\n",
       "      <td>17</td>\n",
       "    </tr>\n",
       "    <tr>\n",
       "      <th>61622</th>\n",
       "      <td>2.0</td>\n",
       "      <td>3.0</td>\n",
       "      <td>3.0</td>\n",
       "      <td>4.0</td>\n",
       "      <td>5.0</td>\n",
       "      <td>4.0</td>\n",
       "      <td>4.0</td>\n",
       "      <td>5.0</td>\n",
       "      <td>3.0</td>\n",
       "      <td>2.0</td>\n",
       "      <td>...</td>\n",
       "      <td>4.0</td>\n",
       "      <td>3.0</td>\n",
       "      <td>3.0</td>\n",
       "      <td>3</td>\n",
       "      <td>4.0</td>\n",
       "      <td>3.0</td>\n",
       "      <td>3.0</td>\n",
       "      <td>1</td>\n",
       "      <td>NaN</td>\n",
       "      <td>17</td>\n",
       "    </tr>\n",
       "  </tbody>\n",
       "</table>\n",
       "<p>5 rows × 28 columns</p>\n",
       "</div>"
      ],
      "text/plain": [
       "        A1   A2   A3   A4   A5   C1   C2   C3   C4   C5  ...   N4   N5   O1  \\\n",
       "61617  2.0  4.0  3.0  4.0  4.0  2.0  3.0  3.0  4.0  4.0  ...  2.0  3.0  3.0   \n",
       "61618  2.0  4.0  5.0  2.0  5.0  5.0  4.0  4.0  3.0  4.0  ...  5.0  5.0  4.0   \n",
       "61620  5.0  4.0  5.0  4.0  4.0  4.0  5.0  4.0  2.0  5.0  ...  2.0  3.0  4.0   \n",
       "61621  4.0  4.0  6.0  5.0  5.0  4.0  4.0  3.0  5.0  5.0  ...  4.0  1.0  3.0   \n",
       "61622  2.0  3.0  3.0  4.0  5.0  4.0  4.0  5.0  3.0  2.0  ...  4.0  3.0  3.0   \n",
       "\n",
       "       O2   O3   O4   O5  gender  education  age  \n",
       "61617   6  3.0  4.0  3.0       1        NaN   16  \n",
       "61618   2  4.0  3.0  3.0       2        NaN   18  \n",
       "61620   2  5.0  5.0  2.0       2        NaN   17  \n",
       "61621   3  4.0  3.0  5.0       2        NaN   17  \n",
       "61622   3  4.0  3.0  3.0       1        NaN   17  \n",
       "\n",
       "[5 rows x 28 columns]"
      ]
     },
     "execution_count": 5,
     "metadata": {},
     "output_type": "execute_result"
    }
   ],
   "source": [
    "df.head()"
   ]
  },
  {
   "cell_type": "markdown",
   "id": "b96ae132-5cd8-445e-a9e6-4ad71fe81d54",
   "metadata": {},
   "source": [
    "What variables are not part of the assessment? Can you drop them along with rows containing NaNs?"
   ]
  },
  {
   "cell_type": "code",
   "execution_count": 6,
   "id": "8e69b48d-c189-47d7-8dd2-04ac0ba25070",
   "metadata": {},
   "outputs": [
    {
     "name": "stdout",
     "output_type": "stream",
     "text": [
      "<class 'pandas.core.frame.DataFrame'>\n",
      "Int64Index: 2436 entries, 61617 to 67560\n",
      "Data columns (total 25 columns):\n",
      " #   Column  Non-Null Count  Dtype  \n",
      "---  ------  --------------  -----  \n",
      " 0   A1      2436 non-null   float64\n",
      " 1   A2      2436 non-null   float64\n",
      " 2   A3      2436 non-null   float64\n",
      " 3   A4      2436 non-null   float64\n",
      " 4   A5      2436 non-null   float64\n",
      " 5   C1      2436 non-null   float64\n",
      " 6   C2      2436 non-null   float64\n",
      " 7   C3      2436 non-null   float64\n",
      " 8   C4      2436 non-null   float64\n",
      " 9   C5      2436 non-null   float64\n",
      " 10  E1      2436 non-null   float64\n",
      " 11  E2      2436 non-null   float64\n",
      " 12  E3      2436 non-null   float64\n",
      " 13  E4      2436 non-null   float64\n",
      " 14  E5      2436 non-null   float64\n",
      " 15  N1      2436 non-null   float64\n",
      " 16  N2      2436 non-null   float64\n",
      " 17  N3      2436 non-null   float64\n",
      " 18  N4      2436 non-null   float64\n",
      " 19  N5      2436 non-null   float64\n",
      " 20  O1      2436 non-null   float64\n",
      " 21  O2      2436 non-null   int64  \n",
      " 22  O3      2436 non-null   float64\n",
      " 23  O4      2436 non-null   float64\n",
      " 24  O5      2436 non-null   float64\n",
      "dtypes: float64(24), int64(1)\n",
      "memory usage: 494.8 KB\n"
     ]
    }
   ],
   "source": [
    "df.drop(['gender', 'education', 'age'],axis=1,inplace=True)\n",
    "df.dropna(inplace=True)\n",
    "df.info()"
   ]
  },
  {
   "cell_type": "markdown",
   "id": "7fb9c362-c6bc-472e-b863-f7ecbee8f889",
   "metadata": {},
   "source": [
    "How much are input variables correlated?"
   ]
  },
  {
   "cell_type": "code",
   "execution_count": 7,
   "id": "023d6452-56b9-46ef-93a6-eae461fa720b",
   "metadata": {},
   "outputs": [
    {
     "data": {
      "image/png": "[encoded data removed]",
      "text/plain": [
       "<Figure size 640x480 with 2 Axes>"
      ]
     },
     "metadata": {},
     "output_type": "display_data"
    }
   ],
   "source": [
    "ax = plt.axes()\n",
    "\n",
    "im = ax.imshow(np.corrcoef(df.T), cmap=\"RdBu_r\", vmin=-1, vmax=1)\n",
    "\n",
    "plt.colorbar(im).ax.set_ylabel(\"$r$\", rotation=0)\n",
    "\n",
    "ax.set_xticks([r for r in range(len(df.columns))])\n",
    "ax.set_xticklabels(list(df.columns), rotation=90)\n",
    "ax.set_yticks([r for r in range(len(df.columns))])\n",
    "ax.set_yticklabels(list(df.columns))\n",
    "\n",
    "ax.set_title(\"Interviewees variable correlation matrix\")\n",
    "plt.tight_layout()"
   ]
  },
  {
   "cell_type": "markdown",
   "id": "93e275f4-f87f-4ee1-acb9-f21cf436af3a",
   "metadata": {},
   "source": [
    "How many factors are we going to need as latent variables?"
   ]
  },
  {
   "cell_type": "code",
   "execution_count": 8,
   "id": "5a2d9ba1-9f80-4deb-bb2e-809d4185d72f",
   "metadata": {},
   "outputs": [
    {
     "data": {
      "image/png": "[encoded data removed]",
      "text/plain": [
       "<Figure size 640x480 with 1 Axes>"
      ]
     },
     "metadata": {},
     "output_type": "display_data"
    }
   ],
   "source": [
    "fa = FactorAnalyzer(rotation = None,impute = \"drop\",n_factors=df.shape[1])\n",
    "\n",
    "fa.fit(df)\n",
    "\n",
    "ev,_ = fa.get_eigenvalues()\n",
    "\n",
    "plt.scatter(range(1,df.shape[1]+1),ev)\n",
    "plt.plot(range(1,df.shape[1]+1),ev)\n",
    "plt.title('Screening Plot')\n",
    "plt.xlabel('Factors')\n",
    "plt.ylabel('Eigen Value') #Eigen values are the number of features each factor accounts for.\n",
    "plt.grid()"
   ]
  },
  {
   "cell_type": "markdown",
   "id": "23c35e68-d5e9-4f19-a98b-14b6dedc8433",
   "metadata": {},
   "source": [
    "What are the factor loadings?"
   ]
  },
  {
   "cell_type": "code",
   "execution_count": 9,
   "id": "f7a540c8-e374-4ae8-ac05-d094ae24f611",
   "metadata": {},
   "outputs": [
    {
     "name": "stdout",
     "output_type": "stream",
     "text": [
      "           0         1         2         3         4         5\n",
      "A1  0.095220  0.040783  0.048734 -0.530987 -0.113057  0.161216\n",
      "A2  0.033131  0.235538  0.133714  0.661141  0.063734 -0.006244\n",
      "A3 -0.009621  0.343008  0.121353  0.605933  0.033990  0.160106\n",
      "A4 -0.081518  0.219717  0.235140  0.404594 -0.125338  0.086356\n",
      "A5 -0.149616  0.414458  0.106382  0.469698  0.030977  0.236519\n",
      "C1 -0.004358  0.077248  0.554582  0.007511  0.190124  0.095035\n",
      "C2  0.068330  0.038370  0.674545  0.057055  0.087593  0.152775\n",
      "C3 -0.039994  0.031867  0.551164  0.101282 -0.011338  0.008996\n",
      "C4  0.216283 -0.066241 -0.638475 -0.102617 -0.143846  0.318359\n",
      "C5  0.284187 -0.180812 -0.544838 -0.059955  0.025837  0.132423\n",
      "E1  0.022280 -0.590451  0.053915 -0.130851 -0.071205  0.156583\n",
      "E2  0.233624 -0.684578 -0.088497 -0.116716 -0.045561  0.115065\n",
      "E3 -0.000895  0.556774  0.103390  0.179396  0.241180  0.267291\n",
      "E4 -0.136788  0.658395  0.113798  0.241143 -0.107808  0.158513\n",
      "E5  0.034490  0.507535  0.309813  0.078804  0.200821  0.008747\n",
      "N1  0.805806  0.068011 -0.051264 -0.174849 -0.074977 -0.096266\n",
      "N2  0.789832  0.022958 -0.037477 -0.141134  0.006726 -0.139823\n",
      "N3  0.725081 -0.065687 -0.059039 -0.019184 -0.010664  0.062495\n",
      "N4  0.578319 -0.345072 -0.162174  0.000403  0.062916  0.147551\n",
      "N5  0.523097 -0.161675 -0.025305  0.090125 -0.161892  0.120049\n",
      "O1 -0.020004  0.225339  0.133201  0.005178  0.479477  0.218690\n",
      "O2  0.156230 -0.001982 -0.086047  0.043989 -0.496640  0.134693\n",
      "O3  0.011851  0.325954  0.093880  0.076642  0.566128  0.210777\n",
      "O4  0.207281 -0.177746 -0.005671  0.133656  0.349227  0.178068\n",
      "O5  0.063234 -0.014221 -0.047059 -0.057561 -0.576743  0.135936\n"
     ]
    }
   ],
   "source": [
    "fa = FactorAnalyzer(n_factors=6,rotation='varimax') #varimax: few large and lots of close to 0 factor loadings\n",
    "\n",
    "fa.fit(df)\n",
    "\n",
    "print(pd.DataFrame(fa.loadings_,index=df.columns))"
   ]
  },
  {
   "cell_type": "code",
   "execution_count": 10,
   "id": "7ce000f0-883d-4cb0-8aab-124fc8ad0110",
   "metadata": {},
   "outputs": [
    {
     "data": {
      "image/png": "[encoded data removed]",
      "text/plain": [
       "<Figure size 640x480 with 2 Axes>"
      ]
     },
     "metadata": {},
     "output_type": "display_data"
    }
   ],
   "source": [
    "Z=np.abs(fa.loadings_)\n",
    "\n",
    "fig, ax = plt.subplots()\n",
    "c = ax.pcolor(Z)\n",
    "fig.colorbar(c, ax=ax)\n",
    "ax.set_yticks([r+0.5 for r in range(len(df.columns))])\n",
    "ax.set_yticklabels(list(df.columns))\n",
    "ax.set_xticks(np.arange(fa.loadings_.shape[1])+0.5, minor=False)\n",
    "ax.set_xticklabels(np.arange(fa.loadings_.shape[1]), minor=False)\n",
    "plt.show()"
   ]
  },
  {
   "cell_type": "markdown",
   "id": "91a98502-7617-4061-834e-c1277f1c0fcd",
   "metadata": {},
   "source": [
    "What is the amount of variance explained by the factors?"
   ]
  },
  {
   "cell_type": "code",
   "execution_count": 11,
   "id": "363dc21e-735e-4320-81fb-6d252eed4966",
   "metadata": {},
   "outputs": [
    {
     "name": "stdout",
     "output_type": "stream",
     "text": [
      "                         0         1         2         3         4         5\n",
      "Variance          2.726989  2.602239  2.073471  1.713499  1.504831  0.630297\n",
      "Proportional Var  0.109080  0.104090  0.082939  0.068540  0.060193  0.025212\n",
      "Cumulative Var    0.109080  0.213169  0.296108  0.364648  0.424841  0.450053\n"
     ]
    }
   ],
   "source": [
    "print(pd.DataFrame(fa.get_factor_variance(),index=['Variance','Proportional Var','Cumulative Var']))"
   ]
  },
  {
   "cell_type": "markdown",
   "id": "ff6f898d-3c2b-419a-bdd2-fc09e6967f8b",
   "metadata": {},
   "source": [
    "What are the communalities (i.e. the proportion of variance that can be explained for each input variable) of the factors?"
   ]
  },
  {
   "cell_type": "code",
   "execution_count": 12,
   "id": "4a5aa7ce-7823-4d5d-8b77-4b3f1eeb6825",
   "metadata": {},
   "outputs": [
    {
     "name": "stdout",
     "output_type": "stream",
     "text": [
      "    Communalities\n",
      "A1       0.333825\n",
      "A2       0.515664\n",
      "A3       0.526418\n",
      "A4       0.297074\n",
      "A5       0.482995\n",
      "C1       0.358783\n",
      "C2       0.495421\n",
      "C3       0.316865\n",
      "C4       0.591392\n",
      "C5       0.432101\n",
      "E1       0.398746\n",
      "E2       0.559997\n",
      "E3       0.482483\n",
      "E4       0.560044\n",
      "E5       0.401381\n",
      "N1       0.702038\n",
      "N2       0.665280\n",
      "N3       0.537931\n",
      "N4       0.505558\n",
      "N5       0.349153\n",
      "O1       0.346671\n",
      "O2       0.298544\n",
      "O3       0.486002\n",
      "O4       0.246123\n",
      "O5       0.360839\n"
     ]
    }
   ],
   "source": [
    "print(pd.DataFrame(fa.get_communalities(),index=df.columns,columns=['Communalities']))"
   ]
  },
  {
   "cell_type": "code",
   "execution_count": null,
   "id": "a9e7fe12-caf0-46b3-8ac5-516008023e14",
   "metadata": {},
   "outputs": [],
   "source": []
  }
 ],
 "metadata": {
  "kernelspec": {
   "display_name": "Python 3.7.15 ('base2')",
   "language": "python",
   "name": "python3"
  },
  "language_info": {
   "codemirror_mode": {
    "name": "ipython",
    "version": 3
   },
   "file_extension": ".py",
   "mimetype": "text/x-python",
   "name": "python",
   "nbconvert_exporter": "python",
   "pygments_lexer": "ipython3",
   "version": "3.7.15"
  },
  "vscode": {
   "interpreter": {
    "hash": "c08288ec6e62ecf03f81cdc3f495252c5f92143112a00aff2967ef1a9a75377f"
   }
  }
 },
 "nbformat": 4,
 "nbformat_minor": 5
}

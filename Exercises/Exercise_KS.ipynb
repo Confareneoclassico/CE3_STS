{
 "cells": [
  {
   "cell_type": "markdown",
   "id": "215aa03b-3931-49b4-86e4-c504e1934ca2",
   "metadata": {},
   "source": [
    "# Statistical Analysis II - Practicum 1"
   ]
  },
  {
   "cell_type": "markdown",
   "id": "403e08e7-1fa2-45db-9888-a695af903c82",
   "metadata": {},
   "source": [
    "## Non-parametric statistics"
   ]
  },
  {
   "cell_type": "markdown",
   "id": "1945ad01-fd10-47f1-9108-b51846cd5964",
   "metadata": {},
   "source": [
    "Use the Kolmogorov-Smirnov test to examine under **the significance level of 0.01** whether the observations below are random numbers uniformly distributed between 0 and 1."
   ]
  },
  {
   "cell_type": "code",
   "execution_count": 22,
   "id": "da7ab7a5-7438-4fb3-b2a7-dd8703f45e29",
   "metadata": {},
   "outputs": [],
   "source": [
    "Observation = [0.385, 0.137, 0.855, 0.396, 0.309, 0.238, 0.597, 0.657, 0.713, 0.583, 0.660, 0.194]"
   ]
  },
  {
   "cell_type": "markdown",
   "id": "c2eae79c-4783-43e1-b12b-bcba19647b8a",
   "metadata": {},
   "source": [
    "Can you obtain the value of the maximum distance between the curves manually? Does it result in rejecting the null hypothesis or not?"
   ]
  },
  {
   "cell_type": "code",
   "execution_count": null,
   "id": "0bf1ea67-a737-4114-b7e1-7335aa1a0750",
   "metadata": {},
   "outputs": [],
   "source": []
  },
  {
   "cell_type": "markdown",
   "id": "de3cbea4-bfd2-4fb7-b5b6-8ff72b7de477",
   "metadata": {},
   "source": [
    "What if you had used scipy to address the question?"
   ]
  },
  {
   "cell_type": "code",
   "execution_count": null,
   "id": "95b54efa-917b-4ac4-8028-f304f28021c1",
   "metadata": {},
   "outputs": [],
   "source": []
  }
 ],
 "metadata": {
  "kernelspec": {
   "display_name": "Python 3 (ipykernel)",
   "language": "python",
   "name": "python3"
  },
  "language_info": {
   "codemirror_mode": {
    "name": "ipython",
    "version": 3
   },
   "file_extension": ".py",
   "mimetype": "text/x-python",
   "name": "python",
   "nbconvert_exporter": "python",
   "pygments_lexer": "ipython3",
   "version": "3.7.13"
  }
 },
 "nbformat": 4,
 "nbformat_minor": 5
}

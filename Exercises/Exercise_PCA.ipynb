{
 "cells": [
  {
   "cell_type": "markdown",
   "id": "215aa03b-3931-49b4-86e4-c504e1934ca2",
   "metadata": {},
   "source": [
    "# Statistical Analysis II - Practicum 2/3"
   ]
  },
  {
   "cell_type": "markdown",
   "id": "403e08e7-1fa2-45db-9888-a695af903c82",
   "metadata": {},
   "source": [
    "## Non-parametric statistics"
   ]
  },
  {
   "cell_type": "markdown",
   "id": "71322113-8dcc-4586-9193-1c57ee0fc2a1",
   "metadata": {},
   "source": [
    "Download the 'load_breast_cancer' data set from sklearn"
   ]
  },
  {
   "cell_type": "code",
   "execution_count": null,
   "id": "4551273b-e365-4545-8a81-a97fa1596286",
   "metadata": {},
   "outputs": [],
   "source": []
  },
  {
   "cell_type": "markdown",
   "id": "b96ae132-5cd8-445e-a9e6-4ad71fe81d54",
   "metadata": {},
   "source": [
    "How many input variables do you have? How many output categories?"
   ]
  },
  {
   "cell_type": "code",
   "execution_count": null,
   "id": "8e69b48d-c189-47d7-8dd2-04ac0ba25070",
   "metadata": {},
   "outputs": [],
   "source": []
  },
  {
   "cell_type": "markdown",
   "id": "7fb9c362-c6bc-472e-b863-f7ecbee8f889",
   "metadata": {},
   "source": [
    "Can you produce a scatter plot of two random input variables? How about a 3d-plot of three random input variables?"
   ]
  },
  {
   "cell_type": "code",
   "execution_count": null,
   "id": "023d6452-56b9-46ef-93a6-eae461fa720b",
   "metadata": {},
   "outputs": [],
   "source": []
  },
  {
   "cell_type": "markdown",
   "id": "93e275f4-f87f-4ee1-acb9-f21cf436af3a",
   "metadata": {},
   "source": [
    "What's the most significant correlation across input variables you would observe from an heatmap (or any alternative means)?"
   ]
  },
  {
   "cell_type": "code",
   "execution_count": null,
   "id": "5a2d9ba1-9f80-4deb-bb2e-809d4185d72f",
   "metadata": {},
   "outputs": [],
   "source": []
  },
  {
   "cell_type": "markdown",
   "id": "23c35e68-d5e9-4f19-a98b-14b6dedc8433",
   "metadata": {},
   "source": [
    "Perform a PCA on normalised input variables. How does the scatter plot varies when this is produced on the axes of the two most important principle components?"
   ]
  },
  {
   "cell_type": "code",
   "execution_count": null,
   "id": "f7a540c8-e374-4ae8-ac05-d094ae24f611",
   "metadata": {},
   "outputs": [],
   "source": []
  },
  {
   "cell_type": "markdown",
   "id": "2fb4fd5c-0a3c-4f1f-94b2-1a19c5dc27d4",
   "metadata": {},
   "source": [
    "How many principal components would you need to apportion at least 90% of the variance?"
   ]
  },
  {
   "cell_type": "code",
   "execution_count": null,
   "id": "9fba5bbf-d3d0-4735-ace2-6aa7bb26cc65",
   "metadata": {},
   "outputs": [],
   "source": []
  },
  {
   "cell_type": "markdown",
   "id": "91a98502-7617-4061-834e-c1277f1c0fcd",
   "metadata": {},
   "source": [
    "What are the values of the input variables in the first principal component?"
   ]
  },
  {
   "cell_type": "code",
   "execution_count": null,
   "id": "363dc21e-735e-4320-81fb-6d252eed4966",
   "metadata": {},
   "outputs": [],
   "source": []
  },
  {
   "cell_type": "markdown",
   "id": "ff6f898d-3c2b-419a-bdd2-fc09e6967f8b",
   "metadata": {},
   "source": [
    "How much variance (in absolute terms) do the first and the second principal component explain?"
   ]
  },
  {
   "cell_type": "code",
   "execution_count": null,
   "id": "4a5aa7ce-7823-4d5d-8b77-4b3f1eeb6825",
   "metadata": {},
   "outputs": [],
   "source": []
  }
 ],
 "metadata": {
  "kernelspec": {
   "display_name": "Python 3 (ipykernel)",
   "language": "python",
   "name": "python3"
  },
  "language_info": {
   "codemirror_mode": {
    "name": "ipython",
    "version": 3
   },
   "file_extension": ".py",
   "mimetype": "text/x-python",
   "name": "python",
   "nbconvert_exporter": "python",
   "pygments_lexer": "ipython3",
   "version": "3.7.15"
  }
 },
 "nbformat": 4,
 "nbformat_minor": 5
}

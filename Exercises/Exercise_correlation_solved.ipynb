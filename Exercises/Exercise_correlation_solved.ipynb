{
 "cells": [
  {
   "cell_type": "markdown",
   "id": "215aa03b-3931-49b4-86e4-c504e1934ca2",
   "metadata": {},
   "source": [
    "# Statistical Analysis II - Practicum 2"
   ]
  },
  {
   "cell_type": "markdown",
   "id": "403e08e7-1fa2-45db-9888-a695af903c82",
   "metadata": {},
   "source": [
    "## Non-parametric statistics"
   ]
  },
  {
   "cell_type": "markdown",
   "id": "1945ad01-fd10-47f1-9108-b51846cd5964",
   "metadata": {},
   "source": [
    "Is there any significant correlation between the following data sets as per the Spearman and Kendall correlation coefficients? Firstly, produce a scatter plot and then perform the test with scipy. Is it in agreement with the impression you had from the scatter plot?"
   ]
  },
  {
   "cell_type": "code",
   "execution_count": null,
   "id": "da7ab7a5-7438-4fb3-b2a7-dd8703f45e29",
   "metadata": {},
   "outputs": [],
   "source": [
    "x = np.arange(10, 20)\n",
    "\n",
    "y = np.array([2, 1, 4, 5, 8, 12, 18, 25, 96, 48])"
   ]
  },
  {
   "cell_type": "code",
   "execution_count": null,
   "id": "afe44895",
   "metadata": {},
   "outputs": [],
   "source": [
    "import matplotlib.pyplot as plt\n",
    "import numpy as np\n",
    "from scipy.stats import spearmanr, kendalltau\n",
    "\n",
    "x = np.arange(10, 20)\n",
    "\n",
    "y = np.array([2, 1, 4, 5, 8, 12, 18, 25, 96, 48])\n",
    "\n",
    "plt.scatter(x,y)\n",
    "plt.show()"
   ]
  },
  {
   "cell_type": "code",
   "execution_count": null,
   "id": "ce8db8e2",
   "metadata": {},
   "outputs": [],
   "source": [
    "rho, p_rho = spearmanr(x,y)\n",
    "print(rho, p_rho)\n",
    "\n",
    "tau, p_tau = kendalltau(x,y)\n",
    "print(tau, p_tau)"
   ]
  },
  {
   "cell_type": "markdown",
   "id": "c2eae79c-4783-43e1-b12b-bcba19647b8a",
   "metadata": {},
   "source": [
    "Now repeat the sequence of steps in the previous code blocks for the data sets below."
   ]
  },
  {
   "cell_type": "code",
   "execution_count": null,
   "id": "0bf1ea67-a737-4114-b7e1-7335aa1a0750",
   "metadata": {},
   "outputs": [],
   "source": [
    "data1 = np.random.rand(1000) * 20\n",
    "data2 = - data1 + np.random.rand(1000) * 10\n",
    "\n",
    "plt.scatter(data1,data2, s= 2)\n",
    "plt.show()"
   ]
  },
  {
   "cell_type": "code",
   "execution_count": null,
   "id": "1490f02d",
   "metadata": {},
   "outputs": [],
   "source": [
    "rho2, p_rho2 = spearmanr(data1,data2)\n",
    "print(rho2, p_rho2)\n",
    "\n",
    "tau2, p_tau2 = kendalltau(data1,data2)\n",
    "print(tau2, p_tau2)"
   ]
  },
  {
   "cell_type": "code",
   "execution_count": null,
   "id": "1c716a85",
   "metadata": {},
   "outputs": [],
   "source": []
  }
 ],
 "metadata": {
  "kernelspec": {
   "display_name": "Python 3.7.15 ('base2')",
   "language": "python",
   "name": "python3"
  },
  "language_info": {
   "codemirror_mode": {
    "name": "ipython",
    "version": 3
   },
   "file_extension": ".py",
   "mimetype": "text/x-python",
   "name": "python",
   "nbconvert_exporter": "python",
   "pygments_lexer": "ipython3",
   "version": "3.7.15"
  },
  "vscode": {
   "interpreter": {
    "hash": "c08288ec6e62ecf03f81cdc3f495252c5f92143112a00aff2967ef1a9a75377f"
   }
  }
 },
 "nbformat": 4,
 "nbformat_minor": 5
}

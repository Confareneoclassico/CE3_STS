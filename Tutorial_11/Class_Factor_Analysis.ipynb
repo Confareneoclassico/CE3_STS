{
 "cells": [
  {
   "cell_type": "markdown",
   "id": "215aa03b-3931-49b4-86e4-c504e1934ca2",
   "metadata": {},
   "source": [
    "# Statistical Analysis II - Practicum 3 (Week 11)"
   ]
  },
  {
   "cell_type": "markdown",
   "id": "403e08e7-1fa2-45db-9888-a695af903c82",
   "metadata": {
    "tags": []
   },
   "source": [
    "## Factor analysis"
   ]
  },
  {
   "cell_type": "code",
   "execution_count": null,
   "id": "e8bb6b78-4190-408d-8f12-1188da5f4bb4",
   "metadata": {},
   "outputs": [],
   "source": [
    "from factor_analyzer import FactorAnalyzer\n",
    "\n",
    "import matplotlib.pyplot as plt\n",
    "import numpy as np\n",
    "import pandas as pd\n",
    "\n",
    "from sklearn.decomposition import FactorAnalysis, PCA\n",
    "from sklearn.preprocessing import StandardScaler\n",
    "from sklearn.datasets import load_iris"
   ]
  },
  {
   "cell_type": "markdown",
   "id": "c4d62bb1-2a00-461c-b06b-ced3247407aa",
   "metadata": {},
   "source": [
    "### Factor analysis"
   ]
  },
  {
   "cell_type": "markdown",
   "id": "253ac0a1-2c43-402c-a7ef-db0946929c7a",
   "metadata": {},
   "source": [
    "Resources from [url1](https://www.datasklr.com/principal-component-analysis-and-factor-analysis/factor-analysis), [url2](https://www.analyticsvidhya.com/blog/2020/10/dimensionality-reduction-using-factor-analysis-in-python/), [url3](https://scikit-learn.org/stable/auto_examples/decomposition/plot_varimax_fa.html#sphx-glr-auto-examples-decomposition-plot-varimax-fa-py), and [url4](https://www.datacamp.com/tutorial/introduction-factor-analysis).\n",
    "\n",
    "The documentation on the packages used is available from [link1](https://scikit-learn.org/stable/modules/generated/sklearn.decomposition.FactorAnalysis.html) and [link2](https://factor-analyzer.readthedocs.io/en/latest/)."
   ]
  },
  {
   "cell_type": "markdown",
   "id": "997c8a36-57b3-4466-b4cf-e912a31f8366",
   "metadata": {},
   "source": [
    "**Factor analysis** together with PCA (and other techniques) constitutes **multivariate analysis**.\n",
    "\n",
    "- Factor analysis (FA) is also used for dimensionality reduction, but to describe variability among *observed* and (potentially) *correlated* variables. \n",
    "\n",
    "- The resulting variables describing these correlations, as linear combinations of the observed input variables, are called *latent variables* (latent, because they are not directly measured), or *factors*. \n",
    "\n",
    "- Factors is to represent the common variance, i.e. the part of the variance that occurs due to correlation among input factors.\n",
    "\n",
    "- The contribution of the input variables to the factors is called *factor loading*.\n",
    "\n",
    "- $x_i-\\mu_i = \\sum_k l_{i,k}*F_{i,k} + \\epsilon_i$\n",
    "\n",
    "- *Confirmatory FA* is used when one has already in mind which input variables combined may produce meaningful latent variables. This is conversely unknwown in *Exploratory FA*."
   ]
  },
  {
   "cell_type": "markdown",
   "id": "5fd5c214-8ba0-4b39-91ce-3df1dd8e04fa",
   "metadata": {},
   "source": [
    "Let us look at a practical example of a recruiter that wants to hire employees for a business firm. \n",
    "The interview process has been over and for each personality of the interviewee, they have been rated out of 10."
   ]
  },
  {
   "cell_type": "code",
   "execution_count": null,
   "id": "a2e9d236-73f3-450b-b3a7-5ebe8ca44e86",
   "metadata": {},
   "outputs": [],
   "source": [
    "# create the data frame\n",
    "dataframe = pd.read_csv('./Datasets/dataset1.txt', sep=\" \", header=0, index_col=0)\n",
    "dataframe.head()"
   ]
  },
  {
   "cell_type": "code",
   "execution_count": null,
   "id": "1d0e8d25-3924-4e88-aae7-b960585baba8",
   "metadata": {},
   "outputs": [],
   "source": [
    "cols = dataframe.columns"
   ]
  },
  {
   "cell_type": "markdown",
   "id": "16d15fd0-3cb0-4d5d-b6c5-e3e261db8205",
   "metadata": {},
   "source": [
    "We want to determine if latent variables can be determined to reduce the dimensionality of this problem consisting of 32 variables.\n",
    "\n",
    "Firstly, how much are the input variables correlated?"
   ]
  },
  {
   "cell_type": "code",
   "execution_count": null,
   "id": "6d5d0720-bbe9-4c79-a09e-528b9a03c9f7",
   "metadata": {},
   "outputs": [],
   "source": [
    "ax = plt.axes()\n",
    "\n",
    "im = ax.imshow(np.corrcoef(dataframe.T), cmap=\"RdBu_r\", vmin=-1, vmax=1)\n",
    "\n",
    "plt.colorbar(im).ax.set_ylabel(\"$r$\", rotation=0)\n",
    "\n",
    "ax.set_xticks([r for r in range(len(cols))])\n",
    "ax.set_xticklabels(list(cols), rotation=90)\n",
    "ax.set_yticks([r for r in range(len(cols))])\n",
    "ax.set_yticklabels(list(cols))\n",
    "\n",
    "ax.set_title(\"Interviewees variable correlation matrix\")\n",
    "plt.tight_layout()"
   ]
  },
  {
   "cell_type": "markdown",
   "id": "6af3b983-3948-4d41-b291-11fe184b6b9f",
   "metadata": {},
   "source": [
    "How many factors can be used as latent variables?"
   ]
  },
  {
   "cell_type": "code",
   "execution_count": null,
   "id": "6bc65c2a-c86b-4940-9fb9-9b3798b0c7aa",
   "metadata": {},
   "outputs": [],
   "source": [
    "fa = FactorAnalyzer(rotation = None,impute = \"drop\",n_factors=dataframe.shape[1])\n",
    "\n",
    "fa.fit(dataframe)\n",
    "\n",
    "ev,_ = fa.get_eigenvalues()\n",
    "\n",
    "plt.scatter(range(1,dataframe.shape[1]+1),ev)\n",
    "plt.plot(range(1,dataframe.shape[1]+1),ev)\n",
    "plt.title('Screening Plot')\n",
    "plt.xlabel('Factors')\n",
    "plt.ylabel('Eigen Value') #Eigen values are the number of features each factor accounts for.\n",
    "plt.grid()"
   ]
  },
  {
   "cell_type": "markdown",
   "id": "fd01bc37-a603-4ed7-9173-1b41649489b9",
   "metadata": {},
   "source": [
    "How do the factors relate to the input variables?"
   ]
  },
  {
   "cell_type": "code",
   "execution_count": null,
   "id": "4fc5b0af-fc5a-4767-b2f9-e6cb79cae80a",
   "metadata": {},
   "outputs": [],
   "source": [
    "fa = FactorAnalyzer(n_factors=6,rotation='varimax') #varimax: few large and lots of close to 0 factor loadings\n",
    "\n",
    "fa.fit(dataframe)\n",
    "\n",
    "print(pd.DataFrame(fa.loadings_,index=dataframe.columns))"
   ]
  },
  {
   "cell_type": "code",
   "execution_count": null,
   "id": "bf61e2cd-6276-4349-9188-4b20fa99cd3d",
   "metadata": {},
   "outputs": [],
   "source": [
    "Z=np.abs(fa.loadings_)\n",
    "\n",
    "fig, ax = plt.subplots()\n",
    "c = ax.pcolor(Z)\n",
    "fig.colorbar(c, ax=ax)\n",
    "ax.set_yticks([r+0.5 for r in range(len(cols))])\n",
    "ax.set_yticklabels(list(cols))\n",
    "ax.set_xticks(np.arange(fa.loadings_.shape[1])+0.5, minor=False)\n",
    "ax.set_xticklabels(np.arange(fa.loadings_.shape[1]), minor=False)\n",
    "plt.show()"
   ]
  },
  {
   "cell_type": "markdown",
   "id": "6470c3cc-9522-47cc-b935-b88f2ca205f9",
   "metadata": {},
   "source": [
    "What is the amount of variance explained by the factors?"
   ]
  },
  {
   "cell_type": "code",
   "execution_count": null,
   "id": "883b4a7c-f605-4010-985b-a8d54663975a",
   "metadata": {},
   "outputs": [],
   "source": [
    "print(pd.DataFrame(fa.get_factor_variance(),index=['Variance','Proportional Var','Cumulative Var']))"
   ]
  },
  {
   "cell_type": "markdown",
   "id": "0c2fee16-85cf-4420-b99d-cd58771ec8fe",
   "metadata": {},
   "source": [
    "What are the communalities (i.e. the proportion of variance that can be explained for each input variable) of the factors?"
   ]
  },
  {
   "cell_type": "code",
   "execution_count": null,
   "id": "9e0b857c-0aad-43c1-a5dc-eb22d036c4d4",
   "metadata": {},
   "outputs": [],
   "source": [
    "print(pd.DataFrame(fa.get_communalities(),index=dataframe.columns,columns=['Communalities']))"
   ]
  },
  {
   "cell_type": "markdown",
   "id": "6060ce87-64be-4346-b5e5-a6ffeeb336de",
   "metadata": {},
   "source": [
    "What are the main differences between PCA and FA? Let's find out with another example, the _iris database_."
   ]
  },
  {
   "cell_type": "code",
   "execution_count": null,
   "id": "19d6e007-aa4d-4007-9664-ce37c3a742de",
   "metadata": {},
   "outputs": [],
   "source": [
    "data = load_iris()\n",
    "X = StandardScaler().fit_transform(data[\"data\"])\n",
    "variables_names = data[\"feature_names\"]\n",
    "print(data)"
   ]
  },
  {
   "cell_type": "markdown",
   "id": "9296e7ec-d584-4ccd-a60e-df36bddf03ab",
   "metadata": {},
   "source": [
    "How does the covariance matrix look like?"
   ]
  },
  {
   "cell_type": "code",
   "execution_count": null,
   "id": "fd4dce67-92a5-4a4f-9d17-a7ed39708aa0",
   "metadata": {},
   "outputs": [],
   "source": [
    "ax = plt.axes()\n",
    "\n",
    "im = ax.imshow(np.corrcoef(X.T), cmap=\"RdBu_r\", vmin=-1, vmax=1)\n",
    "\n",
    "ax.set_xticks([0, 1, 2, 3])\n",
    "ax.set_xticklabels(list(variables_names), rotation=90)\n",
    "ax.set_yticks([0, 1, 2, 3])\n",
    "ax.set_yticklabels(list(variables_names))\n",
    "\n",
    "plt.colorbar(im).ax.set_ylabel(\"$r$\", rotation=0)\n",
    "ax.set_title(\"Iris feature correlation matrix\")\n",
    "plt.tight_layout()"
   ]
  },
  {
   "cell_type": "markdown",
   "id": "aeca24cf-c518-4c5f-905d-44cc1ef7142e",
   "metadata": {},
   "source": [
    "Let's compare PCA vs. FA"
   ]
  },
  {
   "cell_type": "code",
   "execution_count": null,
   "id": "c53e64e5-322e-40c8-a893-99fe9b66758f",
   "metadata": {},
   "outputs": [],
   "source": [
    "n_comps = 2\n",
    "\n",
    "methods = [\n",
    "    (\"PCA\", PCA()),\n",
    "    (\"Unrotated FA\", FactorAnalysis()),\n",
    "    (\"Varimax FA\", FactorAnalysis(rotation=\"varimax\")),\n",
    "]\n",
    "fig, axes = plt.subplots(ncols=len(methods), figsize=(10, 8))\n",
    "\n",
    "for ax, (method, fa) in zip(axes, methods):\n",
    "    fa.set_params(n_components=n_comps)\n",
    "    fa.fit(X)\n",
    "\n",
    "    components = fa.components_.T\n",
    "    print(\"\\n\\n %s :\\n\" % method)\n",
    "    print(components)\n",
    "\n",
    "    vmax = np.abs(components).max()\n",
    "    ax.imshow(components, cmap=\"RdBu_r\", vmax=vmax, vmin=-vmax)\n",
    "    ax.set_yticks(np.arange(len(variables_names)))\n",
    "    if ax.is_first_col():\n",
    "        ax.set_yticklabels(variables_names)\n",
    "    else:\n",
    "        ax.set_yticklabels([])\n",
    "    ax.set_title(str(method))\n",
    "    ax.set_xticks([0, 1])\n",
    "    ax.set_xticklabels([\"Comp. 1\", \"Comp. 2\"])\n",
    "fig.suptitle(\"Factors\")\n",
    "plt.tight_layout()\n",
    "plt.show()"
   ]
  },
  {
   "cell_type": "markdown",
   "id": "3e98b12f-1ae3-495f-8a91-e76142727b6a",
   "metadata": {},
   "source": [
    "- PCA components explain the maximum amount of variance while factor analysis explains the covariance in data.\n",
    "\n",
    "- PCA components are fully orthogonal to each other whereas factor analysis does not require factors to be orthogonal.\n",
    "\n",
    "- PCA component is a linear combination of the observed variable while in FA, the observed variables are linear combinations of the unobserved variable or factor.\n",
    "\n",
    "- PCA components are uninterpretable. In FA, underlying factors are labelable and interpretable.\n",
    "\n",
    "- PCA is a kind of dimensionality reduction method whereas factor analysis is the latent variable method.\n",
    "\n",
    "- PCA is a type of factor analysis. PCA is observational whereas FA is a modeling technique."
   ]
  },
  {
   "cell_type": "markdown",
   "id": "7cb62ba3-0978-4c2e-a700-e5bbd0f78763",
   "metadata": {},
   "source": [
    "# If you have any question: s.lopiano@reading.ac.uk"
   ]
  },
  {
   "cell_type": "code",
   "execution_count": null,
   "id": "8fa98d43-7249-4ed1-91e8-f6c20fa9440e",
   "metadata": {},
   "outputs": [],
   "source": []
  }
 ],
 "metadata": {
  "kernelspec": {
   "display_name": "Python 3 (ipykernel)",
   "language": "python",
   "name": "python3"
  },
  "language_info": {
   "codemirror_mode": {
    "name": "ipython",
    "version": 3
   },
   "file_extension": ".py",
   "mimetype": "text/x-python",
   "name": "python",
   "nbconvert_exporter": "python",
   "pygments_lexer": "ipython3",
   "version": "3.7.15"
  }
 },
 "nbformat": 4,
 "nbformat_minor": 5
}

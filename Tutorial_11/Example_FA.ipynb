{
 "cells": [
  {
   "cell_type": "markdown",
   "id": "215aa03b-3931-49b4-86e4-c504e1934ca2",
   "metadata": {},
   "source": [
    "# Statistical Analysis II - Practicum 3"
   ]
  },
  {
   "cell_type": "markdown",
   "id": "71322113-8dcc-4586-9193-1c57ee0fc2a1",
   "metadata": {},
   "source": [
    "Load the personality assessment test (bfi dataset). Are there any latent variables that can explain the personality groups on the basis of a factor analysis?"
   ]
  },
  {
   "cell_type": "markdown",
   "id": "b96ae132-5cd8-445e-a9e6-4ad71fe81d54",
   "metadata": {},
   "source": [
    "What variables are not part of the assessment? Can you drop them along with rows containing NaNs?"
   ]
  },
  {
   "cell_type": "markdown",
   "id": "7fb9c362-c6bc-472e-b863-f7ecbee8f889",
   "metadata": {},
   "source": [
    "How much are input variables correlated?"
   ]
  },
  {
   "cell_type": "markdown",
   "id": "93e275f4-f87f-4ee1-acb9-f21cf436af3a",
   "metadata": {},
   "source": [
    "How many factors are we going to need as latent variables?"
   ]
  },
  {
   "cell_type": "markdown",
   "id": "23c35e68-d5e9-4f19-a98b-14b6dedc8433",
   "metadata": {},
   "source": [
    "What are the factor loadings?"
   ]
  },
  {
   "cell_type": "markdown",
   "id": "91a98502-7617-4061-834e-c1277f1c0fcd",
   "metadata": {},
   "source": [
    "What is the amount of variance explained by the factors?"
   ]
  },
  {
   "cell_type": "markdown",
   "id": "ff6f898d-3c2b-419a-bdd2-fc09e6967f8b",
   "metadata": {},
   "source": [
    "What are the communalities (i.e. the proportion of variance that can be explained for each input variable) of the factors?"
   ]
  },
  {
   "cell_type": "code",
   "execution_count": null,
   "id": "a9e7fe12-caf0-46b3-8ac5-516008023e14",
   "metadata": {},
   "outputs": [],
   "source": []
  }
 ],
 "metadata": {
  "kernelspec": {
   "display_name": "Python 3 (ipykernel)",
   "language": "python",
   "name": "python3"
  },
  "language_info": {
   "codemirror_mode": {
    "name": "ipython",
    "version": 3
   },
   "file_extension": ".py",
   "mimetype": "text/x-python",
   "name": "python",
   "nbconvert_exporter": "python",
   "pygments_lexer": "ipython3",
   "version": "3.7.15"
  }
 },
 "nbformat": 4,
 "nbformat_minor": 5
}

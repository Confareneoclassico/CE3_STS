{
 "cells": [
  {
   "cell_type": "markdown",
   "id": "215aa03b-3931-49b4-86e4-c504e1934ca2",
   "metadata": {},
   "source": [
    "# Statistical Analysis II - Practicum 1"
   ]
  },
  {
   "cell_type": "markdown",
   "id": "403e08e7-1fa2-45db-9888-a695af903c82",
   "metadata": {},
   "source": [
    "## Non-parametric statistics"
   ]
  },
  {
   "cell_type": "markdown",
   "id": "71322113-8dcc-4586-9193-1c57ee0fc2a1",
   "metadata": {},
   "source": [
    "Now try one example for yourself from this [database](https://reneshbedre.github.io/assets/posts/mann_whitney/genotype.csv) on hypothetical plant genotypes (A and B) yield.\n",
    "\n",
    "**Is the difference between the two significant?** Make use of the Matt-Withney test to address this question."
   ]
  },
  {
   "cell_type": "markdown",
   "id": "b96ae132-5cd8-445e-a9e6-4ad71fe81d54",
   "metadata": {},
   "source": [
    "What do the summary statistics of the distribution look like? What's the practical implication?"
   ]
  },
  {
   "cell_type": "code",
   "execution_count": null,
   "id": "8e69b48d-c189-47d7-8dd2-04ac0ba25070",
   "metadata": {},
   "outputs": [],
   "source": []
  },
  {
   "cell_type": "markdown",
   "id": "7fb9c362-c6bc-472e-b863-f7ecbee8f889",
   "metadata": {},
   "source": [
    "How do the data spread look like? How about the distribution shape of the two data samples?"
   ]
  },
  {
   "cell_type": "code",
   "execution_count": null,
   "id": "023d6452-56b9-46ef-93a6-eae461fa720b",
   "metadata": {},
   "outputs": [],
   "source": []
  },
  {
   "cell_type": "markdown",
   "id": "23c35e68-d5e9-4f19-a98b-14b6dedc8433",
   "metadata": {},
   "source": [
    "Are the two distributions different? At what signifance level? What if you had asked if distribution A was larger or smaller than distribution B?"
   ]
  },
  {
   "cell_type": "code",
   "execution_count": null,
   "id": "f7a540c8-e374-4ae8-ac05-d094ae24f611",
   "metadata": {},
   "outputs": [],
   "source": []
  }
 ],
 "metadata": {
  "kernelspec": {
   "display_name": "Python 3 (ipykernel)",
   "language": "python",
   "name": "python3"
  },
  "language_info": {
   "codemirror_mode": {
    "name": "ipython",
    "version": 3
   },
   "file_extension": ".py",
   "mimetype": "text/x-python",
   "name": "python",
   "nbconvert_exporter": "python",
   "pygments_lexer": "ipython3",
   "version": "3.7.13"
  }
 },
 "nbformat": 4,
 "nbformat_minor": 5
}

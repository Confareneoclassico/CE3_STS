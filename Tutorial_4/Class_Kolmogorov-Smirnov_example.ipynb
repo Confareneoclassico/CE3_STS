{
 "cells": [
  {
   "cell_type": "markdown",
   "id": "215aa03b-3931-49b4-86e4-c504e1934ca2",
   "metadata": {},
   "source": [
    "# Statistical Analysis II - Practicum 1"
   ]
  },
  {
   "cell_type": "markdown",
   "id": "403e08e7-1fa2-45db-9888-a695af903c82",
   "metadata": {},
   "source": [
    "## Non-parametric statistics"
   ]
  },
  {
   "cell_type": "code",
   "execution_count": 1,
   "id": "cdc793b5-00af-49c8-8faa-5b4a442afe14",
   "metadata": {},
   "outputs": [],
   "source": [
    "import matplotlib.pyplot as plt\n",
    "import numpy as np\n",
    "import pandas as pd\n",
    "from scipy import stats\n",
    "from statsmodels.stats.diagnostic import lilliefors"
   ]
  },
  {
   "cell_type": "markdown",
   "id": "c4d62bb1-2a00-461c-b06b-ced3247407aa",
   "metadata": {},
   "source": [
    "### Kolmogorov-Smirnov (and Lilliefors) test"
   ]
  },
  {
   "cell_type": "markdown",
   "id": "253ac0a1-2c43-402c-a7ef-db0946929c7a",
   "metadata": {},
   "source": [
    "Examples from [the Scipy website](https://docs.scipy.org/doc/scipy/reference/generated/scipy.stats.kstest.html)"
   ]
  },
  {
   "cell_type": "markdown",
   "id": "997c8a36-57b3-4466-b4cf-e912a31f8366",
   "metadata": {},
   "source": [
    "The one-sample test compares the underlying distribution F(x) of a sample against a given distribution G(x) (e.g. normal, uniform). \n",
    "\n",
    "The two-sample test compares the underlying distributions of two independent samples. \n",
    "\n",
    "Both tests are **valid only** for continuous distributions and measure the maximum distance between distributions."
   ]
  },
  {
   "cell_type": "code",
   "execution_count": 2,
   "id": "a2e9d236-73f3-450b-b3a7-5ebe8ca44e86",
   "metadata": {},
   "outputs": [
    {
     "name": "stdout",
     "output_type": "stream",
     "text": [
      "[0.04016859 0.60859291 0.53959775 0.12623575 0.54597853 0.95489619\n",
      " 0.13219089 0.87786991 0.88483176 0.96494973 0.46182737 0.99300667\n",
      " 0.02870464 0.38550104 0.6472664  0.86221873 0.53489828 0.14963684\n",
      " 0.59427912 0.01825294 0.79268461 0.88854758 0.53475002 0.95287723\n",
      " 0.13895866 0.52736903 0.33037078 0.27207944 0.6934514  0.78383262\n",
      " 0.24516417 0.23480404 0.3317812  0.72731598 0.14391658 0.60898118\n",
      " 0.16081112 0.3151711  0.83433516 0.07198022 0.54885359 0.26360719\n",
      " 0.22603205 0.22131862 0.83925032 0.39620844 0.48867872 0.66992398\n",
      " 0.2682145  0.1992922  0.27674733 0.58598574 0.93396877 0.17347102\n",
      " 0.63674659 0.81302347 0.83582394 0.71008501 0.32429353 0.71872955\n",
      " 0.30538588 0.26350138 0.24373405 0.25364046 0.71014149 0.35591604\n",
      " 0.94540709 0.61847087 0.96424107 0.31872248 0.68017791 0.09845647\n",
      " 0.34828093 0.30422654 0.01700301 0.30970152 0.82580021 0.12687563\n",
      " 0.37020174 0.23166089 0.86369078 0.37427271 0.4715733  0.94193231\n",
      " 0.65909857 0.58764142 0.21155307 0.26641973 0.67373254 0.84094109\n",
      " 0.920081   0.89751118 0.80501589 0.329078   0.7736942  0.03906562\n",
      " 0.93254564 0.11917954 0.03735655 0.95921733]\n"
     ]
    },
    {
     "data": {
      "text/plain": [
       "KstestResult(statistic=0.7259022171578533, pvalue=3.692266750177046e-54)"
      ]
     },
     "execution_count": 2,
     "metadata": {},
     "output_type": "execute_result"
    }
   ],
   "source": [
    "# Import random seed\n",
    "rng = np.random.default_rng() #seed = 42\n",
    "\n",
    "#Produce a distribution\n",
    "F_x = stats.uniform.rvs(size=100, random_state=rng)\n",
    "print(F_x)\n",
    "\n",
    "#Compare it against a standard distribution\n",
    "G_x = stats.norm.cdf\n",
    "\n",
    "stats.kstest(data,lambda x: stats.norm.cdf(x,loc=mean(data),scale=std(data)))"
   ]
  },
  {
   "cell_type": "code",
   "execution_count": null,
   "id": "95b54efa-917b-4ac4-8028-f304f28021c1",
   "metadata": {},
   "outputs": [],
   "source": []
  }
 ],
 "metadata": {
  "kernelspec": {
   "display_name": "Python 3 (ipykernel)",
   "language": "python",
   "name": "python3"
  },
  "language_info": {
   "codemirror_mode": {
    "name": "ipython",
    "version": 3
   },
   "file_extension": ".py",
   "mimetype": "text/x-python",
   "name": "python",
   "nbconvert_exporter": "python",
   "pygments_lexer": "ipython3",
   "version": "3.7.15"
  }
 },
 "nbformat": 4,
 "nbformat_minor": 5
}

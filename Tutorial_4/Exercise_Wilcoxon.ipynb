{
 "cells": [
  {
   "cell_type": "markdown",
   "id": "215aa03b-3931-49b4-86e4-c504e1934ca2",
   "metadata": {},
   "source": [
    "# Statistical Analysis II - Practicum 1"
   ]
  },
  {
   "cell_type": "markdown",
   "id": "403e08e7-1fa2-45db-9888-a695af903c82",
   "metadata": {},
   "source": [
    "## Non-parametric statistics"
   ]
  },
  {
   "cell_type": "markdown",
   "id": "71322113-8dcc-4586-9193-1c57ee0fc2a1",
   "metadata": {},
   "source": [
    "Now try one example for yourself from this [database](https://github.com/Opensourcefordatascience/Data-sets/blob/master/blood_pressure.csv).\n",
    "\n",
    "**Is the difference in blood pressure significant before and after the intervention?**\n",
    "\n",
    "Would you use the Wilcoxon test to address this question? Why?"
   ]
  },
  {
   "cell_type": "markdown",
   "id": "6d7d7037-067e-4ffb-9220-da2989d04260",
   "metadata": {},
   "source": [
    "What do the summary statistics of the distribution look like? What's the practical implication?"
   ]
  },
  {
   "cell_type": "code",
   "execution_count": null,
   "id": "023d6452-56b9-46ef-93a6-eae461fa720b",
   "metadata": {},
   "outputs": [],
   "source": []
  },
  {
   "cell_type": "markdown",
   "id": "1bc78102-17d0-4b64-ae6e-5d27abda9a72",
   "metadata": {},
   "source": [
    "How do the data spread look like? How about the distribution shape of the two data samples?"
   ]
  },
  {
   "cell_type": "code",
   "execution_count": null,
   "id": "041b518c-edc3-478d-b0da-f5adbb3114ea",
   "metadata": {},
   "outputs": [],
   "source": []
  },
  {
   "cell_type": "markdown",
   "id": "7d12d11d-780e-479a-b86f-b598f88b04fa",
   "metadata": {},
   "source": [
    "Are the two distributions different? At what signifance level? What if you had asked if distribution A was larger or smaller than distribution B?"
   ]
  },
  {
   "cell_type": "code",
   "execution_count": null,
   "id": "b85173ab-f664-4997-9d74-4981b2fbe51b",
   "metadata": {},
   "outputs": [],
   "source": []
  },
  {
   "cell_type": "code",
   "execution_count": null,
   "id": "62a7ca61-4584-46d1-81dd-5c18e087281e",
   "metadata": {},
   "outputs": [],
   "source": []
  }
 ],
 "metadata": {
  "kernelspec": {
   "display_name": "Python 3 (ipykernel)",
   "language": "python",
   "name": "python3"
  },
  "language_info": {
   "codemirror_mode": {
    "name": "ipython",
    "version": 3
   },
   "file_extension": ".py",
   "mimetype": "text/x-python",
   "name": "python",
   "nbconvert_exporter": "python",
   "pygments_lexer": "ipython3",
   "version": "3.7.13"
  }
 },
 "nbformat": 4,
 "nbformat_minor": 5
}

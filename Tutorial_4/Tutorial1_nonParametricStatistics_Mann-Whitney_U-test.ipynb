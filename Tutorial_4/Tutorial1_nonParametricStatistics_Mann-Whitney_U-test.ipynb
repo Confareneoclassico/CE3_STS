{
 "cells": [
  {
   "cell_type": "markdown",
   "id": "215aa03b-3931-49b4-86e4-c504e1934ca2",
   "metadata": {},
   "source": [
    "# Statistical Analysis II - Practicum 1"
   ]
  },
  {
   "cell_type": "markdown",
   "id": "403e08e7-1fa2-45db-9888-a695af903c82",
   "metadata": {},
   "source": [
    "## Non-parametric statistics"
   ]
  },
  {
   "cell_type": "code",
   "execution_count": 1,
   "id": "cdc793b5-00af-49c8-8faa-5b4a442afe14",
   "metadata": {},
   "outputs": [],
   "source": [
    "import matplotlib.pyplot as plt\n",
    "import numpy as np\n",
    "import pandas as pd\n",
    "from scipy.stats import mannwhitneyu"
   ]
  },
  {
   "cell_type": "markdown",
   "id": "c4d62bb1-2a00-461c-b06b-ced3247407aa",
   "metadata": {},
   "source": [
    "### Mann-Whitney U-test (Wilcoxon rank sum test)"
   ]
  },
  {
   "cell_type": "markdown",
   "id": "253ac0a1-2c43-402c-a7ef-db0946929c7a",
   "metadata": {},
   "source": [
    "Example from [the web](http://users.sussex.ac.uk/~grahamh/RM1web/Mann-Whitney%20worked%20example.pdf)"
   ]
  },
  {
   "cell_type": "markdown",
   "id": "997c8a36-57b3-4466-b4cf-e912a31f8366",
   "metadata": {},
   "source": [
    "The effectiveness of advertising for two rival products (Brand X and Brand Y) was compared.\n",
    "Market research at a local shopping centre was carried out, with the participants being shown adverts for two rival brands of tea, which they then rated on the overall likelihood of them buying the product (out of 10, with 10 being \"definitely going to buy the product\").\n",
    "Half of the participants gave ratings for one of the products, the other half gave ratings for the other product."
   ]
  },
  {
   "cell_type": "code",
   "execution_count": 40,
   "id": "a2e9d236-73f3-450b-b3a7-5ebe8ca44e86",
   "metadata": {},
   "outputs": [
    {
     "name": "stdout",
     "output_type": "stream",
     "text": [
      "             Rating\n",
      "Participant        \n",
      "0                 3\n",
      "1                 4\n",
      "2                 2\n",
      "3                 6\n",
      "4                 2\n",
      "5                 5\n",
      "             Rating\n",
      "Participant        \n",
      "0                 9\n",
      "1                 7\n",
      "2                 5\n",
      "3                10\n",
      "4                 6\n",
      "5                 8\n"
     ]
    }
   ],
   "source": [
    "df = pd.DataFrame({'Participant':np.arange(6),\n",
    "                   'Rating': [3,4,2,6,2,5]})\n",
    "df = df.set_index('Participant')\n",
    "\n",
    "df2 = pd.DataFrame({'Participant':np.arange(6),\n",
    "                   'Rating': [9,7,5,10,6,8]})\n",
    "\n",
    "df2 = df2.set_index('Participant')\n",
    "\n",
    "print(df)\n",
    "\n",
    "print(df2)"
   ]
  },
  {
   "cell_type": "markdown",
   "id": "6af3b983-3948-4d41-b291-11fe184b6b9f",
   "metadata": {},
   "source": [
    "Which test do we use? We have two conditions, with each participant taking part in only one of the conditions.  The data are ratings (ordinal data), and hence a nonparametric test is appropriate -  the Mann-Whitney U test. \n",
    "\n",
    "Rank all scores together, ignoring which group they belong to. "
   ]
  },
  {
   "cell_type": "code",
   "execution_count": 41,
   "id": "6bc65c2a-c86b-4940-9fb9-9b3798b0c7aa",
   "metadata": {},
   "outputs": [
    {
     "data": {
      "text/html": [
       "<div>\n",
       "<style scoped>\n",
       "    .dataframe tbody tr th:only-of-type {\n",
       "        vertical-align: middle;\n",
       "    }\n",
       "\n",
       "    .dataframe tbody tr th {\n",
       "        vertical-align: top;\n",
       "    }\n",
       "\n",
       "    .dataframe thead th {\n",
       "        text-align: right;\n",
       "    }\n",
       "</style>\n",
       "<table border=\"1\" class=\"dataframe\">\n",
       "  <thead>\n",
       "    <tr style=\"text-align: right;\">\n",
       "      <th></th>\n",
       "      <th>Rating</th>\n",
       "      <th>Product</th>\n",
       "      <th>Rank</th>\n",
       "    </tr>\n",
       "    <tr>\n",
       "      <th>Participant</th>\n",
       "      <th></th>\n",
       "      <th></th>\n",
       "      <th></th>\n",
       "    </tr>\n",
       "  </thead>\n",
       "  <tbody>\n",
       "    <tr>\n",
       "      <th>0</th>\n",
       "      <td>3</td>\n",
       "      <td>1</td>\n",
       "      <td>3.0</td>\n",
       "    </tr>\n",
       "    <tr>\n",
       "      <th>1</th>\n",
       "      <td>4</td>\n",
       "      <td>1</td>\n",
       "      <td>4.0</td>\n",
       "    </tr>\n",
       "    <tr>\n",
       "      <th>2</th>\n",
       "      <td>2</td>\n",
       "      <td>1</td>\n",
       "      <td>1.5</td>\n",
       "    </tr>\n",
       "    <tr>\n",
       "      <th>3</th>\n",
       "      <td>6</td>\n",
       "      <td>1</td>\n",
       "      <td>7.5</td>\n",
       "    </tr>\n",
       "    <tr>\n",
       "      <th>4</th>\n",
       "      <td>2</td>\n",
       "      <td>1</td>\n",
       "      <td>1.5</td>\n",
       "    </tr>\n",
       "    <tr>\n",
       "      <th>5</th>\n",
       "      <td>5</td>\n",
       "      <td>1</td>\n",
       "      <td>5.5</td>\n",
       "    </tr>\n",
       "    <tr>\n",
       "      <th>0</th>\n",
       "      <td>9</td>\n",
       "      <td>2</td>\n",
       "      <td>11.0</td>\n",
       "    </tr>\n",
       "    <tr>\n",
       "      <th>1</th>\n",
       "      <td>7</td>\n",
       "      <td>2</td>\n",
       "      <td>9.0</td>\n",
       "    </tr>\n",
       "    <tr>\n",
       "      <th>2</th>\n",
       "      <td>5</td>\n",
       "      <td>2</td>\n",
       "      <td>5.5</td>\n",
       "    </tr>\n",
       "    <tr>\n",
       "      <th>3</th>\n",
       "      <td>10</td>\n",
       "      <td>2</td>\n",
       "      <td>12.0</td>\n",
       "    </tr>\n",
       "    <tr>\n",
       "      <th>4</th>\n",
       "      <td>6</td>\n",
       "      <td>2</td>\n",
       "      <td>7.5</td>\n",
       "    </tr>\n",
       "    <tr>\n",
       "      <th>5</th>\n",
       "      <td>8</td>\n",
       "      <td>2</td>\n",
       "      <td>10.0</td>\n",
       "    </tr>\n",
       "  </tbody>\n",
       "</table>\n",
       "</div>"
      ],
      "text/plain": [
       "             Rating  Product  Rank\n",
       "Participant                       \n",
       "0                 3        1   3.0\n",
       "1                 4        1   4.0\n",
       "2                 2        1   1.5\n",
       "3                 6        1   7.5\n",
       "4                 2        1   1.5\n",
       "5                 5        1   5.5\n",
       "0                 9        2  11.0\n",
       "1                 7        2   9.0\n",
       "2                 5        2   5.5\n",
       "3                10        2  12.0\n",
       "4                 6        2   7.5\n",
       "5                 8        2  10.0"
      ]
     },
     "execution_count": 41,
     "metadata": {},
     "output_type": "execute_result"
    }
   ],
   "source": [
    "df['Product'] = 1\n",
    "df2['Product'] = 2\n",
    "\n",
    "df_compare = pd.concat([df,df2])\n",
    "\n",
    "df_compare['Rank'] = df_compare.Rating.rank()\n",
    "\n",
    "df_compare"
   ]
  },
  {
   "cell_type": "markdown",
   "id": "fd01bc37-a603-4ed7-9173-1b41649489b9",
   "metadata": {},
   "source": [
    "Add up the ranks for Brand 1, to get T1; and the same for 2, to get T2"
   ]
  },
  {
   "cell_type": "code",
   "execution_count": 42,
   "id": "4fc5b0af-fc5a-4767-b2f9-e6cb79cae80a",
   "metadata": {},
   "outputs": [
    {
     "name": "stdout",
     "output_type": "stream",
     "text": [
      "23.0\n",
      "55.0\n"
     ]
    }
   ],
   "source": [
    "T1 = df_compare.groupby('Product').get_group(1)['Rank'].sum()\n",
    "\n",
    "print(T1)\n",
    "\n",
    "T2 = df_compare.groupby('Product').get_group(2)['Rank'].sum()\n",
    "\n",
    "print(T2)"
   ]
  },
  {
   "cell_type": "markdown",
   "id": "0c2fee16-85cf-4420-b99d-cd58771ec8fe",
   "metadata": {},
   "source": [
    "Select the larger rank.  In this case it’s T2.  \n",
    "\n",
    "Calculate **n1, n2** and **nx**\n",
    "\n",
    "These are the number of participants in each group, and the number of people in the group that gave the larger rank total.  \n",
    "\n",
    "Therefore"
   ]
  },
  {
   "cell_type": "code",
   "execution_count": 43,
   "id": "75d15492-fcb0-4d64-9050-0457a0362fa7",
   "metadata": {},
   "outputs": [],
   "source": [
    "n1 = 6         \n",
    "n2 = 6         \n",
    "nx = 6 #because the largest rank is T2"
   ]
  },
  {
   "cell_type": "markdown",
   "id": "9296e7ec-d584-4ccd-a60e-df36bddf03ab",
   "metadata": {},
   "source": [
    "Find U (Note: Tx is the larger rank total, T2 in this case)  \n",
    "\n",
    "$U = n_1 n_2 + n_x \\frac{n_x+1}{2}-T_x$"
   ]
  },
  {
   "cell_type": "code",
   "execution_count": 44,
   "id": "1a149394-8e8a-45cb-9678-aed55add5aa6",
   "metadata": {},
   "outputs": [
    {
     "data": {
      "text/plain": [
       "2.0"
      ]
     },
     "execution_count": 44,
     "metadata": {},
     "output_type": "execute_result"
    }
   ],
   "source": [
    "U = n1*n2+nx*(nx+1)/2-T2\n",
    "\n",
    "U"
   ]
  },
  {
   "cell_type": "markdown",
   "id": "c6e9f045-2412-4c34-bab2-f1f74a440759",
   "metadata": {},
   "source": [
    "Use a table of critical U values for the Mann-Whitney U Test\n",
    "\n",
    "![title](images/significance_table_MW5.png)\n",
    "\n",
    "![title](images/significance_table_MW1.png)"
   ]
  },
  {
   "cell_type": "markdown",
   "id": "b28a21b9-fbc0-4d0a-9bcd-2cf8db60f4a5",
   "metadata": {},
   "source": [
    "For **n1 = 6** and **n2=6**, *the critical value of U is 5* for a two-tailed test at the **0.05 significance level**, and *2* **at the 0.01 significance level**. \n",
    "\n",
    "To be significant, our obtained U has to be equal to or less than this critical value. \n",
    "\n",
    "Our obtained U = 2, which implies that we can say that there is a highly significant difference (**p<.01**) between the ratings given to each brand in terms of the likelihood of buying the product."
   ]
  },
  {
   "cell_type": "markdown",
   "id": "75074fc3-2e76-4da7-a701-318bd0b62a2d",
   "metadata": {},
   "source": [
    "How would it have been with python scipy? Can see the details of the documentation [here](https://docs.scipy.org/doc/scipy/reference/generated/scipy.stats.mannwhitneyu.html)"
   ]
  },
  {
   "cell_type": "code",
   "execution_count": 45,
   "id": "2d826dfc-8cab-4334-b796-cecda5bd7e7e",
   "metadata": {},
   "outputs": [
    {
     "data": {
      "text/plain": [
       "MannwhitneyuResult(statistic=2.0, pvalue=0.012591911490379705)"
      ]
     },
     "execution_count": 45,
     "metadata": {},
     "output_type": "execute_result"
    }
   ],
   "source": [
    "mannwhitneyu(x=df.Rating,\n",
    "             y=df2.Rating,\n",
    "             alternative='two-sided')"
   ]
  },
  {
   "cell_type": "markdown",
   "id": "40c677bf-9e47-41b6-bf4d-e37b2cd54565",
   "metadata": {},
   "source": [
    "#### Part 2"
   ]
  },
  {
   "cell_type": "markdown",
   "id": "71322113-8dcc-4586-9193-1c57ee0fc2a1",
   "metadata": {},
   "source": [
    "Now try one example for yourself from this [database](https://reneshbedre.github.io/assets/posts/mann_whitney/genotype.csv) on hypothetical plant genotypes (A and B) yield.\n",
    "\n",
    "**Is the difference between the two significant?**"
   ]
  },
  {
   "cell_type": "code",
   "execution_count": 46,
   "id": "e191ade5-9857-47e8-b1ff-daa362f23338",
   "metadata": {},
   "outputs": [
    {
     "data": {
      "text/html": [
       "<div>\n",
       "<style scoped>\n",
       "    .dataframe tbody tr th:only-of-type {\n",
       "        vertical-align: middle;\n",
       "    }\n",
       "\n",
       "    .dataframe tbody tr th {\n",
       "        vertical-align: top;\n",
       "    }\n",
       "\n",
       "    .dataframe thead th {\n",
       "        text-align: right;\n",
       "    }\n",
       "</style>\n",
       "<table border=\"1\" class=\"dataframe\">\n",
       "  <thead>\n",
       "    <tr style=\"text-align: right;\">\n",
       "      <th></th>\n",
       "      <th>A</th>\n",
       "      <th>B</th>\n",
       "    </tr>\n",
       "  </thead>\n",
       "  <tbody>\n",
       "    <tr>\n",
       "      <th>0</th>\n",
       "      <td>60</td>\n",
       "      <td>29</td>\n",
       "    </tr>\n",
       "    <tr>\n",
       "      <th>1</th>\n",
       "      <td>30</td>\n",
       "      <td>25</td>\n",
       "    </tr>\n",
       "    <tr>\n",
       "      <th>2</th>\n",
       "      <td>60</td>\n",
       "      <td>25</td>\n",
       "    </tr>\n",
       "    <tr>\n",
       "      <th>3</th>\n",
       "      <td>60</td>\n",
       "      <td>30</td>\n",
       "    </tr>\n",
       "    <tr>\n",
       "      <th>4</th>\n",
       "      <td>30</td>\n",
       "      <td>25</td>\n",
       "    </tr>\n",
       "    <tr>\n",
       "      <th>5</th>\n",
       "      <td>45</td>\n",
       "      <td>25</td>\n",
       "    </tr>\n",
       "    <tr>\n",
       "      <th>6</th>\n",
       "      <td>45</td>\n",
       "      <td>20</td>\n",
       "    </tr>\n",
       "    <tr>\n",
       "      <th>7</th>\n",
       "      <td>56</td>\n",
       "      <td>30</td>\n",
       "    </tr>\n",
       "    <tr>\n",
       "      <th>8</th>\n",
       "      <td>56</td>\n",
       "      <td>10</td>\n",
       "    </tr>\n",
       "    <tr>\n",
       "      <th>9</th>\n",
       "      <td>56</td>\n",
       "      <td>10</td>\n",
       "    </tr>\n",
       "    <tr>\n",
       "      <th>10</th>\n",
       "      <td>40</td>\n",
       "      <td>32</td>\n",
       "    </tr>\n",
       "    <tr>\n",
       "      <th>11</th>\n",
       "      <td>40</td>\n",
       "      <td>32</td>\n",
       "    </tr>\n",
       "    <tr>\n",
       "      <th>12</th>\n",
       "      <td>58</td>\n",
       "      <td>12</td>\n",
       "    </tr>\n",
       "    <tr>\n",
       "      <th>13</th>\n",
       "      <td>58</td>\n",
       "      <td>14</td>\n",
       "    </tr>\n",
       "    <tr>\n",
       "      <th>14</th>\n",
       "      <td>32</td>\n",
       "      <td>28</td>\n",
       "    </tr>\n",
       "    <tr>\n",
       "      <th>15</th>\n",
       "      <td>56</td>\n",
       "      <td>30</td>\n",
       "    </tr>\n",
       "    <tr>\n",
       "      <th>16</th>\n",
       "      <td>60</td>\n",
       "      <td>24</td>\n",
       "    </tr>\n",
       "    <tr>\n",
       "      <th>17</th>\n",
       "      <td>30</td>\n",
       "      <td>30</td>\n",
       "    </tr>\n",
       "    <tr>\n",
       "      <th>18</th>\n",
       "      <td>56</td>\n",
       "      <td>28</td>\n",
       "    </tr>\n",
       "    <tr>\n",
       "      <th>19</th>\n",
       "      <td>58</td>\n",
       "      <td>30</td>\n",
       "    </tr>\n",
       "    <tr>\n",
       "      <th>20</th>\n",
       "      <td>32</td>\n",
       "      <td>29</td>\n",
       "    </tr>\n",
       "    <tr>\n",
       "      <th>21</th>\n",
       "      <td>20</td>\n",
       "      <td>30</td>\n",
       "    </tr>\n",
       "    <tr>\n",
       "      <th>22</th>\n",
       "      <td>59</td>\n",
       "      <td>32</td>\n",
       "    </tr>\n",
       "  </tbody>\n",
       "</table>\n",
       "</div>"
      ],
      "text/plain": [
       "     A   B\n",
       "0   60  29\n",
       "1   30  25\n",
       "2   60  25\n",
       "3   60  30\n",
       "4   30  25\n",
       "5   45  25\n",
       "6   45  20\n",
       "7   56  30\n",
       "8   56  10\n",
       "9   56  10\n",
       "10  40  32\n",
       "11  40  32\n",
       "12  58  12\n",
       "13  58  14\n",
       "14  32  28\n",
       "15  56  30\n",
       "16  60  24\n",
       "17  30  30\n",
       "18  56  28\n",
       "19  58  30\n",
       "20  32  29\n",
       "21  20  30\n",
       "22  59  32"
      ]
     },
     "execution_count": 46,
     "metadata": {},
     "output_type": "execute_result"
    }
   ],
   "source": [
    "df_csv=pd.read_csv(\"https://reneshbedre.github.io/assets/posts/mann_whitney/genotype.csv\")\n",
    "df_csv"
   ]
  },
  {
   "cell_type": "markdown",
   "id": "b96ae132-5cd8-445e-a9e6-4ad71fe81d54",
   "metadata": {},
   "source": [
    "Get summary statistics"
   ]
  },
  {
   "cell_type": "code",
   "execution_count": 47,
   "id": "8e69b48d-c189-47d7-8dd2-04ac0ba25070",
   "metadata": {},
   "outputs": [
    {
     "data": {
      "text/html": [
       "<div>\n",
       "<style scoped>\n",
       "    .dataframe tbody tr th:only-of-type {\n",
       "        vertical-align: middle;\n",
       "    }\n",
       "\n",
       "    .dataframe tbody tr th {\n",
       "        vertical-align: top;\n",
       "    }\n",
       "\n",
       "    .dataframe thead th {\n",
       "        text-align: right;\n",
       "    }\n",
       "</style>\n",
       "<table border=\"1\" class=\"dataframe\">\n",
       "  <thead>\n",
       "    <tr style=\"text-align: right;\">\n",
       "      <th></th>\n",
       "      <th>A</th>\n",
       "      <th>B</th>\n",
       "    </tr>\n",
       "  </thead>\n",
       "  <tbody>\n",
       "    <tr>\n",
       "      <th>count</th>\n",
       "      <td>23.000000</td>\n",
       "      <td>23.000000</td>\n",
       "    </tr>\n",
       "    <tr>\n",
       "      <th>min</th>\n",
       "      <td>20.000000</td>\n",
       "      <td>10.000000</td>\n",
       "    </tr>\n",
       "    <tr>\n",
       "      <th>max</th>\n",
       "      <td>60.000000</td>\n",
       "      <td>32.000000</td>\n",
       "    </tr>\n",
       "    <tr>\n",
       "      <th>median</th>\n",
       "      <td>56.000000</td>\n",
       "      <td>28.000000</td>\n",
       "    </tr>\n",
       "    <tr>\n",
       "      <th>mean</th>\n",
       "      <td>47.695652</td>\n",
       "      <td>25.217391</td>\n",
       "    </tr>\n",
       "    <tr>\n",
       "      <th>skew</th>\n",
       "      <td>-0.710884</td>\n",
       "      <td>-1.270302</td>\n",
       "    </tr>\n",
       "  </tbody>\n",
       "</table>\n",
       "</div>"
      ],
      "text/plain": [
       "                A          B\n",
       "count   23.000000  23.000000\n",
       "min     20.000000  10.000000\n",
       "max     60.000000  32.000000\n",
       "median  56.000000  28.000000\n",
       "mean    47.695652  25.217391\n",
       "skew    -0.710884  -1.270302"
      ]
     },
     "execution_count": 47,
     "metadata": {},
     "output_type": "execute_result"
    }
   ],
   "source": [
    "df_csv.agg([\"count\", \"min\", \"max\", \"median\", \"mean\", \"skew\"])"
   ]
  },
  {
   "cell_type": "markdown",
   "id": "7fb9c362-c6bc-472e-b863-f7ecbee8f889",
   "metadata": {},
   "source": [
    "Generate boxplot to visualise the data spread"
   ]
  },
  {
   "cell_type": "code",
   "execution_count": 48,
   "id": "023d6452-56b9-46ef-93a6-eae461fa720b",
   "metadata": {},
   "outputs": [
    {
     "data": {
      "image/png": "[encoded data removed]",
      "text/plain": [
       "<Figure size 640x480 with 1 Axes>"
      ]
     },
     "metadata": {},
     "output_type": "display_data"
    }
   ],
   "source": [
    "df_csv.boxplot(column=['A', 'B'], grid=False)\n",
    "plt.show()"
   ]
  },
  {
   "cell_type": "markdown",
   "id": "9d0d5499-0253-4dbb-8071-471c68169ccd",
   "metadata": {},
   "source": [
    "Let's check the distribution shape (although a hint is already given in the boxplot)"
   ]
  },
  {
   "cell_type": "code",
   "execution_count": 49,
   "id": "041b518c-edc3-478d-b0da-f5adbb3114ea",
   "metadata": {},
   "outputs": [
    {
     "data": {
      "image/png": "[encoded data removed]",
      "text/plain": [
       "<Figure size 640x480 with 2 Axes>"
      ]
     },
     "metadata": {},
     "output_type": "display_data"
    }
   ],
   "source": [
    "fig, (ax1, ax2) = plt.subplots(1, 2)\n",
    "fig.suptitle('Frequency histogram of genotypes yield')\n",
    "ax1.hist(df_csv['A'], bins=10, histtype='bar', ec='k') \n",
    "ax2.hist(df_csv['B'], bins=10, histtype='bar', ec='k') \n",
    "ax1.set_xlabel(\"Yield\")\n",
    "ax2.set_xlabel(\"Yield\")\n",
    "plt.show()"
   ]
  },
  {
   "cell_type": "markdown",
   "id": "23c35e68-d5e9-4f19-a98b-14b6dedc8433",
   "metadata": {},
   "source": [
    "Perform two-sided test"
   ]
  },
  {
   "cell_type": "code",
   "execution_count": 50,
   "id": "13e1c004-707b-44b3-aa75-510bb57e23b9",
   "metadata": {},
   "outputs": [
    {
     "data": {
      "text/plain": [
       "MannwhitneyuResult(statistic=489.5, pvalue=7.004695394561307e-07)"
      ]
     },
     "execution_count": 50,
     "metadata": {},
     "output_type": "execute_result"
    }
   ],
   "source": [
    "mannwhitneyu(x=df_csv['A'], y=df_csv['B'], alternative = 'two-sided')"
   ]
  },
  {
   "cell_type": "markdown",
   "id": "97f65f47-bebb-4308-a520-c6b9466db03c",
   "metadata": {},
   "source": [
    "We can repeat the test one-sided to check if one of the two genotypes has a higher yield than the other"
   ]
  },
  {
   "cell_type": "code",
   "execution_count": 51,
   "id": "62a7ca61-4584-46d1-81dd-5c18e087281e",
   "metadata": {},
   "outputs": [
    {
     "data": {
      "text/plain": [
       "MannwhitneyuResult(statistic=489.5, pvalue=3.5023476972806534e-07)"
      ]
     },
     "execution_count": 51,
     "metadata": {},
     "output_type": "execute_result"
    }
   ],
   "source": [
    "mannwhitneyu(x=df_csv['A'], y=df_csv['B'], alternative = 'greater')"
   ]
  },
  {
   "cell_type": "code",
   "execution_count": 52,
   "id": "cb3caace-0383-4a54-a7af-01b4b1e49d82",
   "metadata": {},
   "outputs": [
    {
     "data": {
      "text/plain": [
       "MannwhitneyuResult(statistic=489.5, pvalue=0.999999687507846)"
      ]
     },
     "execution_count": 52,
     "metadata": {},
     "output_type": "execute_result"
    }
   ],
   "source": [
    "mannwhitneyu(x=df_csv['A'], y=df_csv['B'], alternative = 'less')"
   ]
  }
 ],
 "metadata": {
  "kernelspec": {
   "display_name": "Python 3 (ipykernel)",
   "language": "python",
   "name": "python3"
  },
  "language_info": {
   "codemirror_mode": {
    "name": "ipython",
    "version": 3
   },
   "file_extension": ".py",
   "mimetype": "text/x-python",
   "name": "python",
   "nbconvert_exporter": "python",
   "pygments_lexer": "ipython3",
   "version": "3.7.12"
  }
 },
 "nbformat": 4,
 "nbformat_minor": 5
}

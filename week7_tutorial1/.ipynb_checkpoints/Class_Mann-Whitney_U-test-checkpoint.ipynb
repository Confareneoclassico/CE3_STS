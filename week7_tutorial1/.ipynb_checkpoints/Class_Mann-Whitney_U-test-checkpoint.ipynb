{
 "cells": [
  {
   "cell_type": "markdown",
   "id": "215aa03b-3931-49b4-86e4-c504e1934ca2",
   "metadata": {},
   "source": [
    "# Statistical Analysis II - Practicum 1"
   ]
  },
  {
   "cell_type": "markdown",
   "id": "403e08e7-1fa2-45db-9888-a695af903c82",
   "metadata": {},
   "source": [
    "## Non-parametric statistics"
   ]
  },
  {
   "cell_type": "code",
   "execution_count": null,
   "id": "cdc793b5-00af-49c8-8faa-5b4a442afe14",
   "metadata": {},
   "outputs": [],
   "source": [
    "import matplotlib.pyplot as plt\n",
    "import numpy as np\n",
    "import pandas as pd\n",
    "from scipy.stats import mannwhitneyu"
   ]
  },
  {
   "cell_type": "markdown",
   "id": "c4d62bb1-2a00-461c-b06b-ced3247407aa",
   "metadata": {},
   "source": [
    "### Mann-Whitney U-test (Wilcoxon rank sum test)"
   ]
  },
  {
   "cell_type": "markdown",
   "id": "253ac0a1-2c43-402c-a7ef-db0946929c7a",
   "metadata": {},
   "source": [
    "Example from [the web](http://users.sussex.ac.uk/~grahamh/RM1web/Mann-Whitney%20worked%20example.pdf)"
   ]
  },
  {
   "cell_type": "markdown",
   "id": "997c8a36-57b3-4466-b4cf-e912a31f8366",
   "metadata": {},
   "source": [
    "The effectiveness of advertising for two rival products (Brand X and Brand Y) was compared.\n",
    "Market research at a local shopping centre was carried out, with the participants being shown adverts for two rival brands of tea, which they then rated on the overall likelihood of them buying the product (out of 10, with 10 being \"definitely going to buy the product\").\n",
    "Half of the participants gave ratings for one of the products, the other half gave ratings for the other product."
   ]
  },
  {
   "cell_type": "code",
   "execution_count": null,
   "id": "a2e9d236-73f3-450b-b3a7-5ebe8ca44e86",
   "metadata": {},
   "outputs": [],
   "source": [
    "df = pd.DataFrame({'Participant':np.arange(6),\n",
    "                   'Rating': [3,4,2,6,2,5]})\n",
    "df = df.set_index('Participant')\n",
    "\n",
    "df2 = pd.DataFrame({'Participant':np.arange(6),\n",
    "                   'Rating': [9,7,5,10,6,8]})\n",
    "\n",
    "df2 = df2.set_index('Participant')\n",
    "\n",
    "print(df)\n",
    "\n",
    "print(df2)"
   ]
  },
  {
   "cell_type": "markdown",
   "id": "6af3b983-3948-4d41-b291-11fe184b6b9f",
   "metadata": {},
   "source": [
    "Which test do we use? We have two conditions, with each participant taking part in only one of the conditions.  The data are ratings (ordinal data), and hence a nonparametric test is appropriate -  the Mann-Whitney U test. \n",
    "\n",
    "Rank all scores together, ignoring which group they belong to. "
   ]
  },
  {
   "cell_type": "code",
   "execution_count": null,
   "id": "6bc65c2a-c86b-4940-9fb9-9b3798b0c7aa",
   "metadata": {},
   "outputs": [],
   "source": [
    "df['Product'] = 1\n",
    "df2['Product'] = 2\n",
    "\n",
    "df_compare = pd.concat([df,df2])\n",
    "\n",
    "df_compare['Rank'] = df_compare.Rating.rank()\n",
    "\n",
    "df_compare"
   ]
  },
  {
   "cell_type": "markdown",
   "id": "fd01bc37-a603-4ed7-9173-1b41649489b9",
   "metadata": {},
   "source": [
    "Add up the ranks for Brand 1, to get T1; and the same for 2, to get T2"
   ]
  },
  {
   "cell_type": "code",
   "execution_count": null,
   "id": "4fc5b0af-fc5a-4767-b2f9-e6cb79cae80a",
   "metadata": {},
   "outputs": [],
   "source": [
    "T1 = df_compare.groupby('Product').get_group(1)['Rank'].sum()\n",
    "\n",
    "print(T1)\n",
    "\n",
    "T2 = df_compare.groupby('Product').get_group(2)['Rank'].sum()\n",
    "\n",
    "print(T2)"
   ]
  },
  {
   "cell_type": "markdown",
   "id": "0c2fee16-85cf-4420-b99d-cd58771ec8fe",
   "metadata": {},
   "source": [
    "Select the larger rank.  In this case it’s T2.  \n",
    "\n",
    "Calculate **n1, n2** and **nx**\n",
    "\n",
    "These are the number of participants in each group, and the number of people in the group that gave the larger rank total.  \n",
    "\n",
    "Therefore"
   ]
  },
  {
   "cell_type": "code",
   "execution_count": null,
   "id": "75d15492-fcb0-4d64-9050-0457a0362fa7",
   "metadata": {},
   "outputs": [],
   "source": [
    "n1 = 6         \n",
    "n2 = 6         \n",
    "nx = 6 #because the largest rank is T2"
   ]
  },
  {
   "cell_type": "markdown",
   "id": "9296e7ec-d584-4ccd-a60e-df36bddf03ab",
   "metadata": {},
   "source": [
    "Find U (Note: Tx is the larger rank total, T2 in this case)  \n",
    "\n",
    "$U = n_1 n_2 + n_x \\frac{n_x+1}{2}-T_x$"
   ]
  },
  {
   "cell_type": "code",
   "execution_count": null,
   "id": "1a149394-8e8a-45cb-9678-aed55add5aa6",
   "metadata": {},
   "outputs": [],
   "source": [
    "U = n1*n2+nx*(nx+1)/2-T2\n",
    "\n",
    "U"
   ]
  },
  {
   "cell_type": "markdown",
   "id": "c6e9f045-2412-4c34-bab2-f1f74a440759",
   "metadata": {},
   "source": [
    "Use a table of critical U values for the Mann-Whitney U Test\n",
    "\n",
    "![title](images/significance_table_MW5.png)\n",
    "\n",
    "![title](images/significance_table_MW1.png)"
   ]
  },
  {
   "cell_type": "markdown",
   "id": "b28a21b9-fbc0-4d0a-9bcd-2cf8db60f4a5",
   "metadata": {},
   "source": [
    "For **n1 = 6** and **n2=6**, *the critical value of U is 5* for a two-tailed test at the **0.05 significance level**, and *2* **at the 0.01 significance level**. \n",
    "\n",
    "To be significant, our obtained U has to be equal to or less than this critical value. \n",
    "\n",
    "Our obtained U = 2, which implies that we can say that there is a highly significant difference (**p<.01**) between the ratings given to each brand in terms of the likelihood of buying the product."
   ]
  },
  {
   "cell_type": "markdown",
   "id": "75074fc3-2e76-4da7-a701-318bd0b62a2d",
   "metadata": {},
   "source": [
    "How would it have been with python scipy? Can see the details of the documentation [here](https://docs.scipy.org/doc/scipy/reference/generated/scipy.stats.mannwhitneyu.html)"
   ]
  },
  {
   "cell_type": "code",
   "execution_count": null,
   "id": "2d826dfc-8cab-4334-b796-cecda5bd7e7e",
   "metadata": {},
   "outputs": [],
   "source": [
    "mannwhitneyu(x=df.Rating,\n",
    "             y=df2.Rating,\n",
    "             alternative='two-sided')"
   ]
  }
 ],
 "metadata": {
  "kernelspec": {
   "display_name": "Python 3 (ipykernel)",
   "language": "python",
   "name": "python3"
  },
  "language_info": {
   "codemirror_mode": {
    "name": "ipython",
    "version": 3
   },
   "file_extension": ".py",
   "mimetype": "text/x-python",
   "name": "python",
   "nbconvert_exporter": "python",
   "pygments_lexer": "ipython3",
   "version": "3.7.13"
  }
 },
 "nbformat": 4,
 "nbformat_minor": 5
}

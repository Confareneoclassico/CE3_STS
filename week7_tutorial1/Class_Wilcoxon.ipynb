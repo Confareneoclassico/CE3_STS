{
 "cells": [
  {
   "cell_type": "markdown",
   "id": "215aa03b-3931-49b4-86e4-c504e1934ca2",
   "metadata": {},
   "source": [
    "# Statistical Analysis II - Practicum 1"
   ]
  },
  {
   "cell_type": "markdown",
   "id": "403e08e7-1fa2-45db-9888-a695af903c82",
   "metadata": {},
   "source": [
    "## Non-parametric statistics"
   ]
  },
  {
   "cell_type": "code",
   "execution_count": null,
   "id": "cdc793b5-00af-49c8-8faa-5b4a442afe14",
   "metadata": {},
   "outputs": [],
   "source": [
    "import matplotlib.pyplot as plt\n",
    "import numpy as np\n",
    "import pandas as pd\n",
    "from scipy.stats import wilcoxon"
   ]
  },
  {
   "cell_type": "markdown",
   "id": "c4d62bb1-2a00-461c-b06b-ced3247407aa",
   "metadata": {},
   "source": [
    "### Wilcoxon signed rank test"
   ]
  },
  {
   "cell_type": "markdown",
   "id": "253ac0a1-2c43-402c-a7ef-db0946929c7a",
   "metadata": {},
   "source": [
    "Example from [the web](https://sphweb.bumc.bu.edu/otlt/mph-modules/bs/bs704_nonparametric/BS704_Nonparametric6.html)"
   ]
  },
  {
   "cell_type": "markdown",
   "id": "997c8a36-57b3-4466-b4cf-e912a31f8366",
   "metadata": {},
   "source": [
    "Let's use the Wilcoxon Signed Rank Test to assessed the effectiveness of a new drug designed to reduce repetitive behaviors in children affected with autism. \n",
    "A total of 8 children with autism enroll in the study and the amount of time that each child is engaged in repetitive behavior during three hour observation periods are measured both before treatment and then again after taking the new medication for a period of 1 week. The data are shown below. "
   ]
  },
  {
   "cell_type": "code",
   "execution_count": null,
   "id": "a2e9d236-73f3-450b-b3a7-5ebe8ca44e86",
   "metadata": {},
   "outputs": [],
   "source": [
    "df = pd.DataFrame({'Child':np.arange(8),\n",
    "                   'Before_treatment': [85,70,40,65,80,75,55,20],\n",
    "                   'After_1_week_treatment': [75,50,50,40,20,65,40,25]})\n",
    "df = df.set_index('Child')\n",
    "df"
   ]
  },
  {
   "cell_type": "code",
   "execution_count": null,
   "id": "3eb68c5f-c759-4a57-bcdd-28edbc811ea8",
   "metadata": {},
   "outputs": [],
   "source": [
    "df['difference']=df.Before_treatment-df.After_1_week_treatment\n",
    "df"
   ]
  },
  {
   "cell_type": "code",
   "execution_count": null,
   "id": "6bc65c2a-c86b-4940-9fb9-9b3798b0c7aa",
   "metadata": {},
   "outputs": [],
   "source": [
    "df['Ranks_abs'] = df['difference'].abs().rank()\n",
    "df"
   ]
  },
  {
   "cell_type": "code",
   "execution_count": null,
   "id": "8d5f0ec2-07b6-4a2c-9705-5f6ede8b827f",
   "metadata": {},
   "outputs": [],
   "source": [
    "df['Signed_ranks'] = df.Ranks_abs*np.sign(df.difference)\n",
    "df"
   ]
  },
  {
   "cell_type": "code",
   "execution_count": null,
   "id": "bd3b17b7-7eb8-42d9-8dbe-f57f0acff95b",
   "metadata": {},
   "outputs": [],
   "source": [
    "df_Wplus = df.Signed_ranks.loc[df.Signed_ranks>0].sum()\n",
    "df_Wminus = -df.Signed_ranks.loc[df.Signed_ranks<0].sum()\n",
    "print(df_Wplus,df_Wminus) "
   ]
  },
  {
   "cell_type": "markdown",
   "id": "b28a21b9-fbc0-4d0a-9bcd-2cf8db60f4a5",
   "metadata": {},
   "source": [
    "Hypotheses for the *Wilcoxon Signed Rank Test* concern the population median of the difference scores. The research hypothesis can be one- or two-sided. Here we consider a one-sided test.\n",
    "\n",
    "\n",
    "**H0: The median difference is zero**\n",
    "\n",
    "versus\n",
    "\n",
    "**H1: The median difference is positive $\\alpha$=0.05**"
   ]
  },
  {
   "cell_type": "markdown",
   "id": "a5557b04-adff-4f49-bcca-8e6186ba5cdd",
   "metadata": {},
   "source": [
    "#### Test Statistic for the Wilcoxon Signed Rank Test\n",
    "The test statistic for the Wilcoxon Signed Rank Test is W, defined as the smaller of **$W^+$** (sum of the positive ranks) and **$W^-$** (sum of the negative ranks). If the null hypothesis is true, we expect to see similar numbers of lower and higher ranks that are both positive and negative (i.e., W+ and W- would be similar). If the research hypothesis is true we expect to see more higher and positive ranks (in this example, more children with substantial improvement in repetitive behavior after treatment as compared to before, i.e., W+ much larger than W-).\n",
    "\n",
    "In this example, **$W^+$ = 32** and **$W^-$ = 4**. Recall that the sum of the ranks (ignoring the signs) will always equal n(n+1)/2. As a check on our assignment of ranks, we have n(n+1)/2 = 8(9)/2 = 36 which is equal to 32+4. The test statistic is W = 4.\n",
    "\n",
    "Next we must determine whether the observed test statistic W supports the null or research hypothesis. This is done following the same approach used in parametric testing. Specifically, we determine a critical value of W such that if the observed value of W is less than or equal to the critical value, we reject H0 in favor of H1, and if the observed value of W exceeds the critical value, we do not reject H0."
   ]
  },
  {
   "cell_type": "markdown",
   "id": "14aff67e-3b77-4eb8-9c6e-578944ebf5fd",
   "metadata": {},
   "source": [
    "![title](images/significance_table.png)"
   ]
  },
  {
   "cell_type": "markdown",
   "id": "dda47b9a-6331-44ca-9687-6347813ef62d",
   "metadata": {},
   "source": [
    "To determine the appropriate one-sided critical value we need sample size **(n=8)** and our one-sided level of significance ($\\alpha$=0.05). For this example, __the critical value of W is 6__ and the decision rule is to reject **H0** if W < 6. Thus, **we reject H0, because 4 < 6**. We have statistically significant evidence at α =0.05, to show that the median difference is positive (i.e., that repetitive behavior decreases, hence the treatment is effective.)"
   ]
  },
  {
   "cell_type": "markdown",
   "id": "75074fc3-2e76-4da7-a701-318bd0b62a2d",
   "metadata": {},
   "source": [
    "How would it have been with python scipy? Can see the details of the documentation [here](https://docs.scipy.org/doc/scipy/reference/generated/scipy.stats.wilcoxon.html)"
   ]
  },
  {
   "cell_type": "code",
   "execution_count": null,
   "id": "72f1adb5-0148-42b5-aa6d-50d15031dea3",
   "metadata": {},
   "outputs": [],
   "source": [
    "wilcoxon(df.difference,alternative='greater')"
   ]
  },
  {
   "cell_type": "code",
   "execution_count": null,
   "id": "4ca9afa6-098e-45c8-8825-8016ea5ef613",
   "metadata": {},
   "outputs": [],
   "source": [
    "wilcoxon(x=df.Before_treatment,y=df.After_1_week_treatment,alternative='greater')"
   ]
  },
  {
   "cell_type": "code",
   "execution_count": null,
   "id": "62a7ca61-4584-46d1-81dd-5c18e087281e",
   "metadata": {},
   "outputs": [],
   "source": []
  }
 ],
 "metadata": {
  "kernelspec": {
   "display_name": "Python 3 (ipykernel)",
   "language": "python",
   "name": "python3"
  },
  "language_info": {
   "codemirror_mode": {
    "name": "ipython",
    "version": 3
   },
   "file_extension": ".py",
   "mimetype": "text/x-python",
   "name": "python",
   "nbconvert_exporter": "python",
   "pygments_lexer": "ipython3",
   "version": "3.7.13"
  }
 },
 "nbformat": 4,
 "nbformat_minor": 5
}
